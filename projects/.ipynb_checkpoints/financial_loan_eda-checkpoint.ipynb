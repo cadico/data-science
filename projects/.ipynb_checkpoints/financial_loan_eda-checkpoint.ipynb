{
 "cells": [
  {
   "cell_type": "markdown",
   "metadata": {},
   "source": [
    "# Case Analytics - Ricardo Rolo de Almeida\n",
    "\n",
    "---\n",
    "\n",
    "## 1. Conhecendo a base de dados"
   ]
  },
  {
   "cell_type": "code",
   "execution_count": 1,
   "metadata": {},
   "outputs": [],
   "source": [
    "import pandas as pd\n",
    "import seaborn as sns\n",
    "import numpy as np\n",
    "from scipy import stats\n",
    "import matplotlib.pyplot as plt\n",
    "from scipy.cluster.vq import kmeans\n",
    "from scipy.cluster.vq import vq\n",
    "from impyute.imputation.cs import mice\n",
    "from sklearn.impute import SimpleImputer"
   ]
  },
  {
   "cell_type": "code",
   "execution_count": 2,
   "metadata": {},
   "outputs": [
    {
     "data": {
      "text/html": [
       "<div>\n",
       "<style scoped>\n",
       "    .dataframe tbody tr th:only-of-type {\n",
       "        vertical-align: middle;\n",
       "    }\n",
       "\n",
       "    .dataframe tbody tr th {\n",
       "        vertical-align: top;\n",
       "    }\n",
       "\n",
       "    .dataframe thead th {\n",
       "        text-align: right;\n",
       "    }\n",
       "</style>\n",
       "<table border=\"1\" class=\"dataframe\">\n",
       "  <thead>\n",
       "    <tr style=\"text-align: right;\">\n",
       "      <th></th>\n",
       "      <th>Escolaridade</th>\n",
       "      <th>Renda Mensal Informal</th>\n",
       "      <th>Dependentes</th>\n",
       "      <th>Estado Civil</th>\n",
       "      <th>Idade</th>\n",
       "      <th>Conta Poupanca</th>\n",
       "      <th>Conta Salario</th>\n",
       "      <th>Quant Adiantamento Deposito</th>\n",
       "      <th>Qtd Fonte Renda</th>\n",
       "      <th>Cheque Sem Fundo</th>\n",
       "      <th>...</th>\n",
       "      <th>Valor Emprestimo</th>\n",
       "      <th>Multa</th>\n",
       "      <th>Juros</th>\n",
       "      <th>Valor Emprestimo Atualizado</th>\n",
       "      <th>PAGO</th>\n",
       "      <th>Controle</th>\n",
       "      <th>ID</th>\n",
       "      <th>Genero</th>\n",
       "      <th>Data</th>\n",
       "      <th>Estado</th>\n",
       "    </tr>\n",
       "  </thead>\n",
       "  <tbody>\n",
       "    <tr>\n",
       "      <th>0</th>\n",
       "      <td>NaN</td>\n",
       "      <td>NaN</td>\n",
       "      <td>S</td>\n",
       "      <td>2</td>\n",
       "      <td>36</td>\n",
       "      <td>S</td>\n",
       "      <td>N</td>\n",
       "      <td>NaN</td>\n",
       "      <td>NaN</td>\n",
       "      <td>N</td>\n",
       "      <td>...</td>\n",
       "      <td>8174.32</td>\n",
       "      <td>263.25</td>\n",
       "      <td>5844.98</td>\n",
       "      <td>14282.55</td>\n",
       "      <td>1</td>\n",
       "      <td>1</td>\n",
       "      <td>1328587.0</td>\n",
       "      <td>1</td>\n",
       "      <td>2020-01-01</td>\n",
       "      <td>57</td>\n",
       "    </tr>\n",
       "    <tr>\n",
       "      <th>1</th>\n",
       "      <td>1.0</td>\n",
       "      <td>1894.5078</td>\n",
       "      <td>N</td>\n",
       "      <td>2</td>\n",
       "      <td>39</td>\n",
       "      <td>S</td>\n",
       "      <td>N</td>\n",
       "      <td>2.0</td>\n",
       "      <td>1.0</td>\n",
       "      <td>S</td>\n",
       "      <td>...</td>\n",
       "      <td>41775.63</td>\n",
       "      <td>1607.29</td>\n",
       "      <td>7652.26</td>\n",
       "      <td>51035.18</td>\n",
       "      <td>1</td>\n",
       "      <td>1</td>\n",
       "      <td>1424254.0</td>\n",
       "      <td>1</td>\n",
       "      <td>2020-01-01</td>\n",
       "      <td>59</td>\n",
       "    </tr>\n",
       "    <tr>\n",
       "      <th>2</th>\n",
       "      <td>1.0</td>\n",
       "      <td>NaN</td>\n",
       "      <td>S</td>\n",
       "      <td>2</td>\n",
       "      <td>26</td>\n",
       "      <td>S</td>\n",
       "      <td>N</td>\n",
       "      <td>NaN</td>\n",
       "      <td>1.0</td>\n",
       "      <td>S</td>\n",
       "      <td>...</td>\n",
       "      <td>522940.27</td>\n",
       "      <td>24860.40</td>\n",
       "      <td>319315.62</td>\n",
       "      <td>867116.29</td>\n",
       "      <td>1</td>\n",
       "      <td>1</td>\n",
       "      <td>1438519.0</td>\n",
       "      <td>0</td>\n",
       "      <td>2020-01-01</td>\n",
       "      <td>56</td>\n",
       "    </tr>\n",
       "    <tr>\n",
       "      <th>3</th>\n",
       "      <td>NaN</td>\n",
       "      <td>NaN</td>\n",
       "      <td>N</td>\n",
       "      <td>8</td>\n",
       "      <td>23</td>\n",
       "      <td>N</td>\n",
       "      <td>N</td>\n",
       "      <td>NaN</td>\n",
       "      <td>NaN</td>\n",
       "      <td>N</td>\n",
       "      <td>...</td>\n",
       "      <td>1593.00</td>\n",
       "      <td>21472.36</td>\n",
       "      <td>2967.48</td>\n",
       "      <td>26032.84</td>\n",
       "      <td>1</td>\n",
       "      <td>1</td>\n",
       "      <td>1426138.0</td>\n",
       "      <td>1</td>\n",
       "      <td>2020-01-01</td>\n",
       "      <td>56</td>\n",
       "    </tr>\n",
       "    <tr>\n",
       "      <th>4</th>\n",
       "      <td>NaN</td>\n",
       "      <td>NaN</td>\n",
       "      <td>S</td>\n",
       "      <td>2</td>\n",
       "      <td>33</td>\n",
       "      <td>S</td>\n",
       "      <td>N</td>\n",
       "      <td>NaN</td>\n",
       "      <td>NaN</td>\n",
       "      <td>N</td>\n",
       "      <td>...</td>\n",
       "      <td>2078.97</td>\n",
       "      <td>19.44</td>\n",
       "      <td>46.35</td>\n",
       "      <td>2144.76</td>\n",
       "      <td>1</td>\n",
       "      <td>1</td>\n",
       "      <td>1474504.0</td>\n",
       "      <td>0</td>\n",
       "      <td>2020-01-01</td>\n",
       "      <td>59</td>\n",
       "    </tr>\n",
       "  </tbody>\n",
       "</table>\n",
       "<p>5 rows × 23 columns</p>\n",
       "</div>"
      ],
      "text/plain": [
       "   Escolaridade  Renda Mensal Informal Dependentes  Estado Civil  Idade  \\\n",
       "0           NaN                    NaN           S             2     36   \n",
       "1           1.0              1894.5078           N             2     39   \n",
       "2           1.0                    NaN           S             2     26   \n",
       "3           NaN                    NaN           N             8     23   \n",
       "4           NaN                    NaN           S             2     33   \n",
       "\n",
       "  Conta Poupanca Conta Salario  Quant Adiantamento Deposito  Qtd Fonte Renda  \\\n",
       "0              S             N                          NaN              NaN   \n",
       "1              S             N                          2.0              1.0   \n",
       "2              S             N                          NaN              1.0   \n",
       "3              N             N                          NaN              NaN   \n",
       "4              S             N                          NaN              NaN   \n",
       "\n",
       "  Cheque Sem Fundo  ... Valor Emprestimo     Multa      Juros  \\\n",
       "0                N  ...          8174.32    263.25    5844.98   \n",
       "1                S  ...         41775.63   1607.29    7652.26   \n",
       "2                S  ...        522940.27  24860.40  319315.62   \n",
       "3                N  ...          1593.00  21472.36    2967.48   \n",
       "4                N  ...          2078.97     19.44      46.35   \n",
       "\n",
       "   Valor Emprestimo Atualizado  PAGO  Controle         ID  Genero        Data  \\\n",
       "0                     14282.55     1         1  1328587.0       1  2020-01-01   \n",
       "1                     51035.18     1         1  1424254.0       1  2020-01-01   \n",
       "2                    867116.29     1         1  1438519.0       0  2020-01-01   \n",
       "3                     26032.84     1         1  1426138.0       1  2020-01-01   \n",
       "4                      2144.76     1         1  1474504.0       0  2020-01-01   \n",
       "\n",
       "   Estado  \n",
       "0      57  \n",
       "1      59  \n",
       "2      56  \n",
       "3      56  \n",
       "4      59  \n",
       "\n",
       "[5 rows x 23 columns]"
      ]
     },
     "execution_count": 2,
     "metadata": {},
     "output_type": "execute_result"
    }
   ],
   "source": [
    "df = pd.read_csv('./datasets/df_criado_final.csv')\n",
    "df.head()"
   ]
  },
  {
   "cell_type": "markdown",
   "metadata": {},
   "source": [
    "### 1.1 Tipos de Dados"
   ]
  },
  {
   "cell_type": "code",
   "execution_count": 3,
   "metadata": {},
   "outputs": [
    {
     "data": {
      "text/plain": [
       "(50390, 23)"
      ]
     },
     "execution_count": 3,
     "metadata": {},
     "output_type": "execute_result"
    }
   ],
   "source": [
    "df.shape"
   ]
  },
  {
   "cell_type": "code",
   "execution_count": 4,
   "metadata": {},
   "outputs": [
    {
     "name": "stdout",
     "output_type": "stream",
     "text": [
      "<class 'pandas.core.frame.DataFrame'>\n",
      "RangeIndex: 50390 entries, 0 to 50389\n",
      "Data columns (total 23 columns):\n",
      " #   Column                       Non-Null Count  Dtype  \n",
      "---  ------                       --------------  -----  \n",
      " 0   Escolaridade                 14615 non-null  float64\n",
      " 1   Renda Mensal Informal        9768 non-null   float64\n",
      " 2   Dependentes                  50390 non-null  object \n",
      " 3   Estado Civil                 50390 non-null  int64  \n",
      " 4   Idade                        50390 non-null  int64  \n",
      " 5   Conta Poupanca               50390 non-null  object \n",
      " 6   Conta Salario                50390 non-null  object \n",
      " 7   Quant Adiantamento Deposito  21843 non-null  float64\n",
      " 8   Qtd Fonte Renda              12806 non-null  float64\n",
      " 9   Cheque Sem Fundo             50390 non-null  object \n",
      " 10  Conta Conjunta               50390 non-null  object \n",
      " 11  Valor Conta Corrente         0 non-null      float64\n",
      " 12  Valor Conta Poupanca         0 non-null      float64\n",
      " 13  Valor Emprestimo             50390 non-null  float64\n",
      " 14  Multa                        50390 non-null  float64\n",
      " 15  Juros                        50390 non-null  float64\n",
      " 16  Valor Emprestimo Atualizado  50390 non-null  float64\n",
      " 17  PAGO                         50390 non-null  int64  \n",
      " 18  Controle                     50390 non-null  int64  \n",
      " 19  ID                           50390 non-null  float64\n",
      " 20  Genero                       50390 non-null  int64  \n",
      " 21  Data                         50390 non-null  object \n",
      " 22  Estado                       50390 non-null  int64  \n",
      "dtypes: float64(11), int64(6), object(6)\n",
      "memory usage: 8.8+ MB\n"
     ]
    }
   ],
   "source": [
    "df.info()"
   ]
  },
  {
   "cell_type": "markdown",
   "metadata": {},
   "source": [
    "> Como pudemos ver, nosso dataset possui: 50390 **linhas** e 23 **colunas** de dados, sendo eles, majoritariamente, valores **numéricos**, contendo também valores **booleanos** (Conta Poupanca, Conta Salario, Cheque Sem Fundo, etc) e **numéricos categóricos** (Escolaridade, Estado Civil, Gênero e Estado).  \n",
    "\n",
    "> **Comentário:** o campo 'ID' (Identificação do tomador de crédito) é do tipo float, porém, normalmente, campos de identificação são armazenados como números inteiros. Vamos corrigir isso abaixo.\n",
    "> Mudaremos também o tipo das variáveis 'Escolaridade' e 'Qtd Adiantamento Deposito' para o tipo int64 (assim que preenchermos seus valores nulos)."
   ]
  },
  {
   "cell_type": "code",
   "execution_count": 5,
   "metadata": {},
   "outputs": [],
   "source": [
    "df['ID'] = df['ID'].astype('int64')"
   ]
  },
  {
   "cell_type": "code",
   "execution_count": 6,
   "metadata": {},
   "outputs": [
    {
     "data": {
      "text/html": [
       "<div>\n",
       "<style scoped>\n",
       "    .dataframe tbody tr th:only-of-type {\n",
       "        vertical-align: middle;\n",
       "    }\n",
       "\n",
       "    .dataframe tbody tr th {\n",
       "        vertical-align: top;\n",
       "    }\n",
       "\n",
       "    .dataframe thead th {\n",
       "        text-align: right;\n",
       "    }\n",
       "</style>\n",
       "<table border=\"1\" class=\"dataframe\">\n",
       "  <thead>\n",
       "    <tr style=\"text-align: right;\">\n",
       "      <th></th>\n",
       "      <th>Escolaridade</th>\n",
       "      <th>Renda Mensal Informal</th>\n",
       "      <th>Dependentes</th>\n",
       "      <th>Estado Civil</th>\n",
       "      <th>Idade</th>\n",
       "      <th>Conta Poupanca</th>\n",
       "      <th>Conta Salario</th>\n",
       "      <th>Quant Adiantamento Deposito</th>\n",
       "      <th>Qtd Fonte Renda</th>\n",
       "      <th>Cheque Sem Fundo</th>\n",
       "      <th>...</th>\n",
       "      <th>Valor Emprestimo</th>\n",
       "      <th>Multa</th>\n",
       "      <th>Juros</th>\n",
       "      <th>Valor Emprestimo Atualizado</th>\n",
       "      <th>PAGO</th>\n",
       "      <th>Controle</th>\n",
       "      <th>ID</th>\n",
       "      <th>Genero</th>\n",
       "      <th>Data</th>\n",
       "      <th>Estado</th>\n",
       "    </tr>\n",
       "  </thead>\n",
       "  <tbody>\n",
       "    <tr>\n",
       "      <th>0</th>\n",
       "      <td>NaN</td>\n",
       "      <td>NaN</td>\n",
       "      <td>S</td>\n",
       "      <td>2</td>\n",
       "      <td>36</td>\n",
       "      <td>S</td>\n",
       "      <td>N</td>\n",
       "      <td>NaN</td>\n",
       "      <td>NaN</td>\n",
       "      <td>N</td>\n",
       "      <td>...</td>\n",
       "      <td>8174.32</td>\n",
       "      <td>263.25</td>\n",
       "      <td>5844.98</td>\n",
       "      <td>14282.55</td>\n",
       "      <td>1</td>\n",
       "      <td>1</td>\n",
       "      <td>1328587</td>\n",
       "      <td>1</td>\n",
       "      <td>2020-01-01</td>\n",
       "      <td>57</td>\n",
       "    </tr>\n",
       "    <tr>\n",
       "      <th>1</th>\n",
       "      <td>1.0</td>\n",
       "      <td>1894.5078</td>\n",
       "      <td>N</td>\n",
       "      <td>2</td>\n",
       "      <td>39</td>\n",
       "      <td>S</td>\n",
       "      <td>N</td>\n",
       "      <td>2.0</td>\n",
       "      <td>1.0</td>\n",
       "      <td>S</td>\n",
       "      <td>...</td>\n",
       "      <td>41775.63</td>\n",
       "      <td>1607.29</td>\n",
       "      <td>7652.26</td>\n",
       "      <td>51035.18</td>\n",
       "      <td>1</td>\n",
       "      <td>1</td>\n",
       "      <td>1424254</td>\n",
       "      <td>1</td>\n",
       "      <td>2020-01-01</td>\n",
       "      <td>59</td>\n",
       "    </tr>\n",
       "    <tr>\n",
       "      <th>2</th>\n",
       "      <td>1.0</td>\n",
       "      <td>NaN</td>\n",
       "      <td>S</td>\n",
       "      <td>2</td>\n",
       "      <td>26</td>\n",
       "      <td>S</td>\n",
       "      <td>N</td>\n",
       "      <td>NaN</td>\n",
       "      <td>1.0</td>\n",
       "      <td>S</td>\n",
       "      <td>...</td>\n",
       "      <td>522940.27</td>\n",
       "      <td>24860.40</td>\n",
       "      <td>319315.62</td>\n",
       "      <td>867116.29</td>\n",
       "      <td>1</td>\n",
       "      <td>1</td>\n",
       "      <td>1438519</td>\n",
       "      <td>0</td>\n",
       "      <td>2020-01-01</td>\n",
       "      <td>56</td>\n",
       "    </tr>\n",
       "    <tr>\n",
       "      <th>3</th>\n",
       "      <td>NaN</td>\n",
       "      <td>NaN</td>\n",
       "      <td>N</td>\n",
       "      <td>8</td>\n",
       "      <td>23</td>\n",
       "      <td>N</td>\n",
       "      <td>N</td>\n",
       "      <td>NaN</td>\n",
       "      <td>NaN</td>\n",
       "      <td>N</td>\n",
       "      <td>...</td>\n",
       "      <td>1593.00</td>\n",
       "      <td>21472.36</td>\n",
       "      <td>2967.48</td>\n",
       "      <td>26032.84</td>\n",
       "      <td>1</td>\n",
       "      <td>1</td>\n",
       "      <td>1426138</td>\n",
       "      <td>1</td>\n",
       "      <td>2020-01-01</td>\n",
       "      <td>56</td>\n",
       "    </tr>\n",
       "    <tr>\n",
       "      <th>4</th>\n",
       "      <td>NaN</td>\n",
       "      <td>NaN</td>\n",
       "      <td>S</td>\n",
       "      <td>2</td>\n",
       "      <td>33</td>\n",
       "      <td>S</td>\n",
       "      <td>N</td>\n",
       "      <td>NaN</td>\n",
       "      <td>NaN</td>\n",
       "      <td>N</td>\n",
       "      <td>...</td>\n",
       "      <td>2078.97</td>\n",
       "      <td>19.44</td>\n",
       "      <td>46.35</td>\n",
       "      <td>2144.76</td>\n",
       "      <td>1</td>\n",
       "      <td>1</td>\n",
       "      <td>1474504</td>\n",
       "      <td>0</td>\n",
       "      <td>2020-01-01</td>\n",
       "      <td>59</td>\n",
       "    </tr>\n",
       "  </tbody>\n",
       "</table>\n",
       "<p>5 rows × 23 columns</p>\n",
       "</div>"
      ],
      "text/plain": [
       "   Escolaridade  Renda Mensal Informal Dependentes  Estado Civil  Idade  \\\n",
       "0           NaN                    NaN           S             2     36   \n",
       "1           1.0              1894.5078           N             2     39   \n",
       "2           1.0                    NaN           S             2     26   \n",
       "3           NaN                    NaN           N             8     23   \n",
       "4           NaN                    NaN           S             2     33   \n",
       "\n",
       "  Conta Poupanca Conta Salario  Quant Adiantamento Deposito  Qtd Fonte Renda  \\\n",
       "0              S             N                          NaN              NaN   \n",
       "1              S             N                          2.0              1.0   \n",
       "2              S             N                          NaN              1.0   \n",
       "3              N             N                          NaN              NaN   \n",
       "4              S             N                          NaN              NaN   \n",
       "\n",
       "  Cheque Sem Fundo  ... Valor Emprestimo     Multa      Juros  \\\n",
       "0                N  ...          8174.32    263.25    5844.98   \n",
       "1                S  ...         41775.63   1607.29    7652.26   \n",
       "2                S  ...        522940.27  24860.40  319315.62   \n",
       "3                N  ...          1593.00  21472.36    2967.48   \n",
       "4                N  ...          2078.97     19.44      46.35   \n",
       "\n",
       "   Valor Emprestimo Atualizado  PAGO  Controle       ID  Genero        Data  \\\n",
       "0                     14282.55     1         1  1328587       1  2020-01-01   \n",
       "1                     51035.18     1         1  1424254       1  2020-01-01   \n",
       "2                    867116.29     1         1  1438519       0  2020-01-01   \n",
       "3                     26032.84     1         1  1426138       1  2020-01-01   \n",
       "4                      2144.76     1         1  1474504       0  2020-01-01   \n",
       "\n",
       "   Estado  \n",
       "0      57  \n",
       "1      59  \n",
       "2      56  \n",
       "3      56  \n",
       "4      59  \n",
       "\n",
       "[5 rows x 23 columns]"
      ]
     },
     "execution_count": 6,
     "metadata": {},
     "output_type": "execute_result"
    }
   ],
   "source": [
    "df.head()"
   ]
  },
  {
   "cell_type": "markdown",
   "metadata": {},
   "source": [
    "### 1.2 Características dos Dados  \n",
    "\n",
    "Para análise de aprovação de crédito, usa-se, comumente, os seguintes dados (candidatas a possíveis variáveis preditoras):  \n",
    "\n",
    "- CPF\n",
    "- Nível de Escolaridade\n",
    "- Profissão\n",
    "- Renda\n",
    "- Idade\n",
    "- Bens de garantia\n",
    "- Histórico de pagamento  \n",
    "\n",
    "Abaixo, vamos analisar quais desses dados nós possuímos no nosso dataset"
   ]
  },
  {
   "cell_type": "code",
   "execution_count": 7,
   "metadata": {},
   "outputs": [
    {
     "data": {
      "text/plain": [
       "Index(['Escolaridade', 'Renda Mensal Informal', 'Dependentes', 'Estado Civil',\n",
       "       'Idade', 'Conta Poupanca', 'Conta Salario',\n",
       "       'Quant Adiantamento Deposito', 'Qtd Fonte Renda', 'Cheque Sem Fundo',\n",
       "       'Conta Conjunta', 'Valor Conta Corrente', 'Valor Conta Poupanca',\n",
       "       'Valor Emprestimo', 'Multa', 'Juros', 'Valor Emprestimo Atualizado',\n",
       "       'PAGO', 'Controle', 'ID', 'Genero', 'Data', 'Estado'],\n",
       "      dtype='object')"
      ]
     },
     "execution_count": 7,
     "metadata": {},
     "output_type": "execute_result"
    }
   ],
   "source": [
    "df.columns"
   ]
  },
  {
   "cell_type": "markdown",
   "metadata": {},
   "source": [
    "> Vimos que, dos dados comumente usados, temos, a princípio:  \n",
    "\n",
    "|           Dado           |                                                       Coluna(s)                                                       |\n",
    "|:------------------------:|:---------------------------------------------------------------------------------------------------------------------:|\n",
    "|   Nível de Escolaridade  |                                                      Escolaridade                                                     |\n",
    "|   Histórico de Pagamento |                PAGO, Cheque Sem Fundo, Valor Emprestimo, Multa, Juros, Valor Emprestimo Atualizado                    |\n",
    "|            Renda         | Renda Mensal Informal, Conta Poupanca, Conta Salario, Conta Conjunta, Valor Conta Corrente, Valor Conta Poupanca      | \n",
    "|           Idade          |                                                         Idade                                                         | \n",
    "\n",
    "##### Agora, vamos verificar quais desses dados estão bem definidos no nosso dataset para que possamos definir quais podem e quais não podem ser usados"
   ]
  },
  {
   "cell_type": "markdown",
   "metadata": {},
   "source": [
    "## 2. Tratamento da base de dados (Valores Faltantes, Duplicatas)\n",
    "\n",
    "### 2.1 Valores Faltantes"
   ]
  },
  {
   "cell_type": "code",
   "execution_count": 8,
   "metadata": {},
   "outputs": [
    {
     "data": {
      "text/plain": [
       "<matplotlib.axes._subplots.AxesSubplot at 0x1e87f6d8808>"
      ]
     },
     "execution_count": 8,
     "metadata": {},
     "output_type": "execute_result"
    },
    {
     "data": {
      "image/png": "[encoded data removed]",
      "text/plain": [
       "<Figure size 432x288 with 1 Axes>"
      ]
     },
     "metadata": {
      "needs_background": "light"
     },
     "output_type": "display_data"
    }
   ],
   "source": [
    "sns.heatmap(df.isnull(),yticklabels=False,cbar=False,cmap='viridis') #fonte: https://github.com/krishnaik06/EDA1/blob/master/EDA.ipynb"
   ]
  },
  {
   "cell_type": "code",
   "execution_count": 9,
   "metadata": {},
   "outputs": [
    {
     "data": {
      "text/plain": [
       "Index(['Valor Conta Corrente', 'Valor Conta Poupanca'], dtype='object')"
      ]
     },
     "execution_count": 9,
     "metadata": {},
     "output_type": "execute_result"
    }
   ],
   "source": [
    "df.columns[df.isnull().all()]"
   ]
  },
  {
   "cell_type": "markdown",
   "metadata": {},
   "source": [
    "> De cara, percebe-se que há duas colunas que possuem **APENAS** valores nulos (Valor Conta Corrente, Valor Conta Poupanca).  \n",
    "> Aqui cabe uma **crítica**: como não possuímos nenhum **valor** de renda **formal** declarada, isso pode dificultar na previsão do nosso modelo, visto que, dessa forma, teríamos apenas a coluna de Renda Mensal Informal que pode conter valores ou não (Ex: se o cliente não possuir renda informal ou não declará-la) além desse valor poder variar mensalmente.  \n",
    "Como estas duas colunas **NÃO** possuem valor algum, podemos dizer, com mais segurança, que elas podem ser removidas."
   ]
  },
  {
   "cell_type": "code",
   "execution_count": 10,
   "metadata": {},
   "outputs": [],
   "source": [
    "# remoção das duas colunas nulas\n",
    "df.drop(columns=['Valor Conta Corrente', 'Valor Conta Poupanca'], inplace=True)"
   ]
  },
  {
   "cell_type": "code",
   "execution_count": 11,
   "metadata": {},
   "outputs": [
    {
     "data": {
      "text/html": [
       "<div>\n",
       "<style scoped>\n",
       "    .dataframe tbody tr th:only-of-type {\n",
       "        vertical-align: middle;\n",
       "    }\n",
       "\n",
       "    .dataframe tbody tr th {\n",
       "        vertical-align: top;\n",
       "    }\n",
       "\n",
       "    .dataframe thead th {\n",
       "        text-align: right;\n",
       "    }\n",
       "</style>\n",
       "<table border=\"1\" class=\"dataframe\">\n",
       "  <thead>\n",
       "    <tr style=\"text-align: right;\">\n",
       "      <th></th>\n",
       "      <th>Escolaridade</th>\n",
       "      <th>Renda Mensal Informal</th>\n",
       "      <th>Dependentes</th>\n",
       "      <th>Estado Civil</th>\n",
       "      <th>Idade</th>\n",
       "      <th>Conta Poupanca</th>\n",
       "      <th>Conta Salario</th>\n",
       "      <th>Quant Adiantamento Deposito</th>\n",
       "      <th>Qtd Fonte Renda</th>\n",
       "      <th>Cheque Sem Fundo</th>\n",
       "      <th>...</th>\n",
       "      <th>Valor Emprestimo</th>\n",
       "      <th>Multa</th>\n",
       "      <th>Juros</th>\n",
       "      <th>Valor Emprestimo Atualizado</th>\n",
       "      <th>PAGO</th>\n",
       "      <th>Controle</th>\n",
       "      <th>ID</th>\n",
       "      <th>Genero</th>\n",
       "      <th>Data</th>\n",
       "      <th>Estado</th>\n",
       "    </tr>\n",
       "  </thead>\n",
       "  <tbody>\n",
       "    <tr>\n",
       "      <th>0</th>\n",
       "      <td>NaN</td>\n",
       "      <td>NaN</td>\n",
       "      <td>S</td>\n",
       "      <td>2</td>\n",
       "      <td>36</td>\n",
       "      <td>S</td>\n",
       "      <td>N</td>\n",
       "      <td>NaN</td>\n",
       "      <td>NaN</td>\n",
       "      <td>N</td>\n",
       "      <td>...</td>\n",
       "      <td>8174.32</td>\n",
       "      <td>263.25</td>\n",
       "      <td>5844.98</td>\n",
       "      <td>14282.55</td>\n",
       "      <td>1</td>\n",
       "      <td>1</td>\n",
       "      <td>1328587</td>\n",
       "      <td>1</td>\n",
       "      <td>2020-01-01</td>\n",
       "      <td>57</td>\n",
       "    </tr>\n",
       "    <tr>\n",
       "      <th>1</th>\n",
       "      <td>1.0</td>\n",
       "      <td>1894.5078</td>\n",
       "      <td>N</td>\n",
       "      <td>2</td>\n",
       "      <td>39</td>\n",
       "      <td>S</td>\n",
       "      <td>N</td>\n",
       "      <td>2.0</td>\n",
       "      <td>1.0</td>\n",
       "      <td>S</td>\n",
       "      <td>...</td>\n",
       "      <td>41775.63</td>\n",
       "      <td>1607.29</td>\n",
       "      <td>7652.26</td>\n",
       "      <td>51035.18</td>\n",
       "      <td>1</td>\n",
       "      <td>1</td>\n",
       "      <td>1424254</td>\n",
       "      <td>1</td>\n",
       "      <td>2020-01-01</td>\n",
       "      <td>59</td>\n",
       "    </tr>\n",
       "    <tr>\n",
       "      <th>2</th>\n",
       "      <td>1.0</td>\n",
       "      <td>NaN</td>\n",
       "      <td>S</td>\n",
       "      <td>2</td>\n",
       "      <td>26</td>\n",
       "      <td>S</td>\n",
       "      <td>N</td>\n",
       "      <td>NaN</td>\n",
       "      <td>1.0</td>\n",
       "      <td>S</td>\n",
       "      <td>...</td>\n",
       "      <td>522940.27</td>\n",
       "      <td>24860.40</td>\n",
       "      <td>319315.62</td>\n",
       "      <td>867116.29</td>\n",
       "      <td>1</td>\n",
       "      <td>1</td>\n",
       "      <td>1438519</td>\n",
       "      <td>0</td>\n",
       "      <td>2020-01-01</td>\n",
       "      <td>56</td>\n",
       "    </tr>\n",
       "    <tr>\n",
       "      <th>3</th>\n",
       "      <td>NaN</td>\n",
       "      <td>NaN</td>\n",
       "      <td>N</td>\n",
       "      <td>8</td>\n",
       "      <td>23</td>\n",
       "      <td>N</td>\n",
       "      <td>N</td>\n",
       "      <td>NaN</td>\n",
       "      <td>NaN</td>\n",
       "      <td>N</td>\n",
       "      <td>...</td>\n",
       "      <td>1593.00</td>\n",
       "      <td>21472.36</td>\n",
       "      <td>2967.48</td>\n",
       "      <td>26032.84</td>\n",
       "      <td>1</td>\n",
       "      <td>1</td>\n",
       "      <td>1426138</td>\n",
       "      <td>1</td>\n",
       "      <td>2020-01-01</td>\n",
       "      <td>56</td>\n",
       "    </tr>\n",
       "    <tr>\n",
       "      <th>4</th>\n",
       "      <td>NaN</td>\n",
       "      <td>NaN</td>\n",
       "      <td>S</td>\n",
       "      <td>2</td>\n",
       "      <td>33</td>\n",
       "      <td>S</td>\n",
       "      <td>N</td>\n",
       "      <td>NaN</td>\n",
       "      <td>NaN</td>\n",
       "      <td>N</td>\n",
       "      <td>...</td>\n",
       "      <td>2078.97</td>\n",
       "      <td>19.44</td>\n",
       "      <td>46.35</td>\n",
       "      <td>2144.76</td>\n",
       "      <td>1</td>\n",
       "      <td>1</td>\n",
       "      <td>1474504</td>\n",
       "      <td>0</td>\n",
       "      <td>2020-01-01</td>\n",
       "      <td>59</td>\n",
       "    </tr>\n",
       "  </tbody>\n",
       "</table>\n",
       "<p>5 rows × 21 columns</p>\n",
       "</div>"
      ],
      "text/plain": [
       "   Escolaridade  Renda Mensal Informal Dependentes  Estado Civil  Idade  \\\n",
       "0           NaN                    NaN           S             2     36   \n",
       "1           1.0              1894.5078           N             2     39   \n",
       "2           1.0                    NaN           S             2     26   \n",
       "3           NaN                    NaN           N             8     23   \n",
       "4           NaN                    NaN           S             2     33   \n",
       "\n",
       "  Conta Poupanca Conta Salario  Quant Adiantamento Deposito  Qtd Fonte Renda  \\\n",
       "0              S             N                          NaN              NaN   \n",
       "1              S             N                          2.0              1.0   \n",
       "2              S             N                          NaN              1.0   \n",
       "3              N             N                          NaN              NaN   \n",
       "4              S             N                          NaN              NaN   \n",
       "\n",
       "  Cheque Sem Fundo  ... Valor Emprestimo     Multa      Juros  \\\n",
       "0                N  ...          8174.32    263.25    5844.98   \n",
       "1                S  ...         41775.63   1607.29    7652.26   \n",
       "2                S  ...        522940.27  24860.40  319315.62   \n",
       "3                N  ...          1593.00  21472.36    2967.48   \n",
       "4                N  ...          2078.97     19.44      46.35   \n",
       "\n",
       "   Valor Emprestimo Atualizado  PAGO  Controle       ID  Genero        Data  \\\n",
       "0                     14282.55     1         1  1328587       1  2020-01-01   \n",
       "1                     51035.18     1         1  1424254       1  2020-01-01   \n",
       "2                    867116.29     1         1  1438519       0  2020-01-01   \n",
       "3                     26032.84     1         1  1426138       1  2020-01-01   \n",
       "4                      2144.76     1         1  1474504       0  2020-01-01   \n",
       "\n",
       "  Estado  \n",
       "0     57  \n",
       "1     59  \n",
       "2     56  \n",
       "3     56  \n",
       "4     59  \n",
       "\n",
       "[5 rows x 21 columns]"
      ]
     },
     "execution_count": 11,
     "metadata": {},
     "output_type": "execute_result"
    }
   ],
   "source": [
    "df.head()"
   ]
  },
  {
   "cell_type": "code",
   "execution_count": 12,
   "metadata": {},
   "outputs": [
    {
     "data": {
      "text/plain": [
       "Index(['Escolaridade', 'Renda Mensal Informal', 'Quant Adiantamento Deposito',\n",
       "       'Qtd Fonte Renda'],\n",
       "      dtype='object')"
      ]
     },
     "execution_count": 12,
     "metadata": {},
     "output_type": "execute_result"
    }
   ],
   "source": [
    "df.columns[df.isnull().any()]"
   ]
  },
  {
   "cell_type": "markdown",
   "metadata": {},
   "source": [
    "> Acima vemos quais colunas do dataframe possem 1 ou mais valores nulos, abaixo faremos uma análise dessas colunas:"
   ]
  },
  {
   "cell_type": "code",
   "execution_count": 13,
   "metadata": {},
   "outputs": [],
   "source": [
    "missing_values = pd.DataFrame()\n",
    "\n",
    "missing_values['Nulos'] = df.isnull().sum() # Aqui checamos quantos valores nulos existem em cada coluna do nosso DataFrame\n",
    "\n",
    "missing_values = missing_values[missing_values['Nulos'] > 0] # Filtramos o dataframe para mostrar apenas as colunas que possuem valores nulos"
   ]
  },
  {
   "cell_type": "code",
   "execution_count": 14,
   "metadata": {},
   "outputs": [
    {
     "data": {
      "text/plain": [
       "Text(0.5, 1.0, 'Análise de Valores Nulos nas Colunas do DataFrame')"
      ]
     },
     "execution_count": 14,
     "metadata": {},
     "output_type": "execute_result"
    },
    {
     "data": {
      "image/png": "[encoded data removed]",
      "text/plain": [
       "<Figure size 432x288 with 1 Axes>"
      ]
     },
     "metadata": {
      "needs_background": "light"
     },
     "output_type": "display_data"
    }
   ],
   "source": [
    "sns.barplot(x=missing_values.index, y=missing_values.Nulos, data=missing_values, order=missing_values.index)\n",
    "plt.xticks(rotation = 80)\n",
    "plt.ylabel(\"Nº de Valores Nulos\")\n",
    "plt.title(\"Análise de Valores Nulos nas Colunas do DataFrame\")"
   ]
  },
  {
   "cell_type": "markdown",
   "metadata": {},
   "source": [
    "##### Acima vemos que as seguintes colunas do dataset ainda posssuem valores faltantes:\n",
    "\n",
    "- Escolaridade\n",
    "- Renda Mensal Informal\n",
    "- Quant Adiantamento Deposito\n",
    "- Qtd Fonte Renda\n"
   ]
  },
  {
   "cell_type": "markdown",
   "metadata": {},
   "source": [
    "> ##### **Comentário:** A coluna 'Renda Mensal Informal', mesmo possuindo valores nulos, poderia talvez ser utilizada no modelo, já que nem todos os clientes possuem Renda Informal declarada, o que pode explicar seus valores faltantes no dataset.\n",
    "> ##### Já que esta coluna possui muitos valores faltantes, cerca de 80% de todas as linhas do dataset, vamos adotar o método de preenchimento e, para isso, vamos preencher os valores faltantes com 0 (zero).  \n",
    "> ##### Obs: Estamos preenchendo com 0 pois, provavelmente, os valores que estão faltando são dos clientes que **NÃO** possuem Renda Informal."
   ]
  },
  {
   "cell_type": "code",
   "execution_count": 15,
   "metadata": {},
   "outputs": [],
   "source": [
    "df['Renda Mensal Informal'].fillna(value=0, inplace=True)"
   ]
  },
  {
   "cell_type": "code",
   "execution_count": 16,
   "metadata": {},
   "outputs": [
    {
     "data": {
      "text/html": [
       "<div>\n",
       "<style scoped>\n",
       "    .dataframe tbody tr th:only-of-type {\n",
       "        vertical-align: middle;\n",
       "    }\n",
       "\n",
       "    .dataframe tbody tr th {\n",
       "        vertical-align: top;\n",
       "    }\n",
       "\n",
       "    .dataframe thead th {\n",
       "        text-align: right;\n",
       "    }\n",
       "</style>\n",
       "<table border=\"1\" class=\"dataframe\">\n",
       "  <thead>\n",
       "    <tr style=\"text-align: right;\">\n",
       "      <th></th>\n",
       "      <th>Escolaridade</th>\n",
       "      <th>Renda Mensal Informal</th>\n",
       "      <th>Dependentes</th>\n",
       "      <th>Estado Civil</th>\n",
       "      <th>Idade</th>\n",
       "      <th>Conta Poupanca</th>\n",
       "      <th>Conta Salario</th>\n",
       "      <th>Quant Adiantamento Deposito</th>\n",
       "      <th>Qtd Fonte Renda</th>\n",
       "      <th>Cheque Sem Fundo</th>\n",
       "      <th>...</th>\n",
       "      <th>Valor Emprestimo</th>\n",
       "      <th>Multa</th>\n",
       "      <th>Juros</th>\n",
       "      <th>Valor Emprestimo Atualizado</th>\n",
       "      <th>PAGO</th>\n",
       "      <th>Controle</th>\n",
       "      <th>ID</th>\n",
       "      <th>Genero</th>\n",
       "      <th>Data</th>\n",
       "      <th>Estado</th>\n",
       "    </tr>\n",
       "  </thead>\n",
       "  <tbody>\n",
       "    <tr>\n",
       "      <th>0</th>\n",
       "      <td>NaN</td>\n",
       "      <td>0.0000</td>\n",
       "      <td>S</td>\n",
       "      <td>2</td>\n",
       "      <td>36</td>\n",
       "      <td>S</td>\n",
       "      <td>N</td>\n",
       "      <td>NaN</td>\n",
       "      <td>NaN</td>\n",
       "      <td>N</td>\n",
       "      <td>...</td>\n",
       "      <td>8174.32</td>\n",
       "      <td>263.25</td>\n",
       "      <td>5844.98</td>\n",
       "      <td>14282.55</td>\n",
       "      <td>1</td>\n",
       "      <td>1</td>\n",
       "      <td>1328587</td>\n",
       "      <td>1</td>\n",
       "      <td>2020-01-01</td>\n",
       "      <td>57</td>\n",
       "    </tr>\n",
       "    <tr>\n",
       "      <th>1</th>\n",
       "      <td>1.0</td>\n",
       "      <td>1894.5078</td>\n",
       "      <td>N</td>\n",
       "      <td>2</td>\n",
       "      <td>39</td>\n",
       "      <td>S</td>\n",
       "      <td>N</td>\n",
       "      <td>2.0</td>\n",
       "      <td>1.0</td>\n",
       "      <td>S</td>\n",
       "      <td>...</td>\n",
       "      <td>41775.63</td>\n",
       "      <td>1607.29</td>\n",
       "      <td>7652.26</td>\n",
       "      <td>51035.18</td>\n",
       "      <td>1</td>\n",
       "      <td>1</td>\n",
       "      <td>1424254</td>\n",
       "      <td>1</td>\n",
       "      <td>2020-01-01</td>\n",
       "      <td>59</td>\n",
       "    </tr>\n",
       "    <tr>\n",
       "      <th>2</th>\n",
       "      <td>1.0</td>\n",
       "      <td>0.0000</td>\n",
       "      <td>S</td>\n",
       "      <td>2</td>\n",
       "      <td>26</td>\n",
       "      <td>S</td>\n",
       "      <td>N</td>\n",
       "      <td>NaN</td>\n",
       "      <td>1.0</td>\n",
       "      <td>S</td>\n",
       "      <td>...</td>\n",
       "      <td>522940.27</td>\n",
       "      <td>24860.40</td>\n",
       "      <td>319315.62</td>\n",
       "      <td>867116.29</td>\n",
       "      <td>1</td>\n",
       "      <td>1</td>\n",
       "      <td>1438519</td>\n",
       "      <td>0</td>\n",
       "      <td>2020-01-01</td>\n",
       "      <td>56</td>\n",
       "    </tr>\n",
       "    <tr>\n",
       "      <th>3</th>\n",
       "      <td>NaN</td>\n",
       "      <td>0.0000</td>\n",
       "      <td>N</td>\n",
       "      <td>8</td>\n",
       "      <td>23</td>\n",
       "      <td>N</td>\n",
       "      <td>N</td>\n",
       "      <td>NaN</td>\n",
       "      <td>NaN</td>\n",
       "      <td>N</td>\n",
       "      <td>...</td>\n",
       "      <td>1593.00</td>\n",
       "      <td>21472.36</td>\n",
       "      <td>2967.48</td>\n",
       "      <td>26032.84</td>\n",
       "      <td>1</td>\n",
       "      <td>1</td>\n",
       "      <td>1426138</td>\n",
       "      <td>1</td>\n",
       "      <td>2020-01-01</td>\n",
       "      <td>56</td>\n",
       "    </tr>\n",
       "    <tr>\n",
       "      <th>4</th>\n",
       "      <td>NaN</td>\n",
       "      <td>0.0000</td>\n",
       "      <td>S</td>\n",
       "      <td>2</td>\n",
       "      <td>33</td>\n",
       "      <td>S</td>\n",
       "      <td>N</td>\n",
       "      <td>NaN</td>\n",
       "      <td>NaN</td>\n",
       "      <td>N</td>\n",
       "      <td>...</td>\n",
       "      <td>2078.97</td>\n",
       "      <td>19.44</td>\n",
       "      <td>46.35</td>\n",
       "      <td>2144.76</td>\n",
       "      <td>1</td>\n",
       "      <td>1</td>\n",
       "      <td>1474504</td>\n",
       "      <td>0</td>\n",
       "      <td>2020-01-01</td>\n",
       "      <td>59</td>\n",
       "    </tr>\n",
       "  </tbody>\n",
       "</table>\n",
       "<p>5 rows × 21 columns</p>\n",
       "</div>"
      ],
      "text/plain": [
       "   Escolaridade  Renda Mensal Informal Dependentes  Estado Civil  Idade  \\\n",
       "0           NaN                 0.0000           S             2     36   \n",
       "1           1.0              1894.5078           N             2     39   \n",
       "2           1.0                 0.0000           S             2     26   \n",
       "3           NaN                 0.0000           N             8     23   \n",
       "4           NaN                 0.0000           S             2     33   \n",
       "\n",
       "  Conta Poupanca Conta Salario  Quant Adiantamento Deposito  Qtd Fonte Renda  \\\n",
       "0              S             N                          NaN              NaN   \n",
       "1              S             N                          2.0              1.0   \n",
       "2              S             N                          NaN              1.0   \n",
       "3              N             N                          NaN              NaN   \n",
       "4              S             N                          NaN              NaN   \n",
       "\n",
       "  Cheque Sem Fundo  ... Valor Emprestimo     Multa      Juros  \\\n",
       "0                N  ...          8174.32    263.25    5844.98   \n",
       "1                S  ...         41775.63   1607.29    7652.26   \n",
       "2                S  ...        522940.27  24860.40  319315.62   \n",
       "3                N  ...          1593.00  21472.36    2967.48   \n",
       "4                N  ...          2078.97     19.44      46.35   \n",
       "\n",
       "   Valor Emprestimo Atualizado  PAGO  Controle       ID  Genero        Data  \\\n",
       "0                     14282.55     1         1  1328587       1  2020-01-01   \n",
       "1                     51035.18     1         1  1424254       1  2020-01-01   \n",
       "2                    867116.29     1         1  1438519       0  2020-01-01   \n",
       "3                     26032.84     1         1  1426138       1  2020-01-01   \n",
       "4                      2144.76     1         1  1474504       0  2020-01-01   \n",
       "\n",
       "  Estado  \n",
       "0     57  \n",
       "1     59  \n",
       "2     56  \n",
       "3     56  \n",
       "4     59  \n",
       "\n",
       "[5 rows x 21 columns]"
      ]
     },
     "execution_count": 16,
     "metadata": {},
     "output_type": "execute_result"
    }
   ],
   "source": [
    "df.head()"
   ]
  },
  {
   "cell_type": "markdown",
   "metadata": {},
   "source": [
    "> ##### Como a coluna 'Quant Adiantamento Deposito' também possui muitos valores nulos e remover suas instâncias reduziria nosso dataset pela metade, optamos aqui por preencher seus valores nulos utilizando a **moda**, já que esta variável pode nos ajudar a prever o risco de inadimplência de um cliente.  \n",
    "> **Comentário:** Poderia ser feita a retirada completa dessa variável do nosso conjuntos de dados, porém, como ela pode nos dar uma informação importante na caracterização de um **BOM** ou **MAU** pagador, manteremos esta variável preenchendo seus valores como mencionado acima."
   ]
  },
  {
   "cell_type": "code",
   "execution_count": 17,
   "metadata": {},
   "outputs": [
    {
     "data": {
      "text/plain": [
       "28547"
      ]
     },
     "execution_count": 17,
     "metadata": {},
     "output_type": "execute_result"
    }
   ],
   "source": [
    "df['Quant Adiantamento Deposito'].isna().sum()"
   ]
  },
  {
   "cell_type": "code",
   "execution_count": 18,
   "metadata": {},
   "outputs": [
    {
     "data": {
      "text/plain": [
       "2.0"
      ]
     },
     "execution_count": 18,
     "metadata": {},
     "output_type": "execute_result"
    }
   ],
   "source": [
    "adiantamento_deposito_moda = df['Quant Adiantamento Deposito'].mode(dropna=True)[0]\n",
    "adiantamento_deposito_moda"
   ]
  },
  {
   "cell_type": "code",
   "execution_count": 19,
   "metadata": {},
   "outputs": [],
   "source": [
    "df['Quant Adiantamento Deposito'].fillna(value=adiantamento_deposito_moda, inplace=True)"
   ]
  },
  {
   "cell_type": "code",
   "execution_count": 20,
   "metadata": {},
   "outputs": [
    {
     "data": {
      "text/plain": [
       "0"
      ]
     },
     "execution_count": 20,
     "metadata": {},
     "output_type": "execute_result"
    }
   ],
   "source": [
    "df['Quant Adiantamento Deposito'].isna().sum()"
   ]
  },
  {
   "cell_type": "code",
   "execution_count": 21,
   "metadata": {},
   "outputs": [
    {
     "data": {
      "text/html": [
       "<div>\n",
       "<style scoped>\n",
       "    .dataframe tbody tr th:only-of-type {\n",
       "        vertical-align: middle;\n",
       "    }\n",
       "\n",
       "    .dataframe tbody tr th {\n",
       "        vertical-align: top;\n",
       "    }\n",
       "\n",
       "    .dataframe thead th {\n",
       "        text-align: right;\n",
       "    }\n",
       "</style>\n",
       "<table border=\"1\" class=\"dataframe\">\n",
       "  <thead>\n",
       "    <tr style=\"text-align: right;\">\n",
       "      <th></th>\n",
       "      <th>Escolaridade</th>\n",
       "      <th>Renda Mensal Informal</th>\n",
       "      <th>Dependentes</th>\n",
       "      <th>Estado Civil</th>\n",
       "      <th>Idade</th>\n",
       "      <th>Conta Poupanca</th>\n",
       "      <th>Conta Salario</th>\n",
       "      <th>Quant Adiantamento Deposito</th>\n",
       "      <th>Qtd Fonte Renda</th>\n",
       "      <th>Cheque Sem Fundo</th>\n",
       "      <th>...</th>\n",
       "      <th>Valor Emprestimo</th>\n",
       "      <th>Multa</th>\n",
       "      <th>Juros</th>\n",
       "      <th>Valor Emprestimo Atualizado</th>\n",
       "      <th>PAGO</th>\n",
       "      <th>Controle</th>\n",
       "      <th>ID</th>\n",
       "      <th>Genero</th>\n",
       "      <th>Data</th>\n",
       "      <th>Estado</th>\n",
       "    </tr>\n",
       "  </thead>\n",
       "  <tbody>\n",
       "    <tr>\n",
       "      <th>0</th>\n",
       "      <td>NaN</td>\n",
       "      <td>0.0000</td>\n",
       "      <td>S</td>\n",
       "      <td>2</td>\n",
       "      <td>36</td>\n",
       "      <td>S</td>\n",
       "      <td>N</td>\n",
       "      <td>2.0</td>\n",
       "      <td>NaN</td>\n",
       "      <td>N</td>\n",
       "      <td>...</td>\n",
       "      <td>8174.32</td>\n",
       "      <td>263.25</td>\n",
       "      <td>5844.98</td>\n",
       "      <td>14282.55</td>\n",
       "      <td>1</td>\n",
       "      <td>1</td>\n",
       "      <td>1328587</td>\n",
       "      <td>1</td>\n",
       "      <td>2020-01-01</td>\n",
       "      <td>57</td>\n",
       "    </tr>\n",
       "    <tr>\n",
       "      <th>1</th>\n",
       "      <td>1.0</td>\n",
       "      <td>1894.5078</td>\n",
       "      <td>N</td>\n",
       "      <td>2</td>\n",
       "      <td>39</td>\n",
       "      <td>S</td>\n",
       "      <td>N</td>\n",
       "      <td>2.0</td>\n",
       "      <td>1.0</td>\n",
       "      <td>S</td>\n",
       "      <td>...</td>\n",
       "      <td>41775.63</td>\n",
       "      <td>1607.29</td>\n",
       "      <td>7652.26</td>\n",
       "      <td>51035.18</td>\n",
       "      <td>1</td>\n",
       "      <td>1</td>\n",
       "      <td>1424254</td>\n",
       "      <td>1</td>\n",
       "      <td>2020-01-01</td>\n",
       "      <td>59</td>\n",
       "    </tr>\n",
       "    <tr>\n",
       "      <th>2</th>\n",
       "      <td>1.0</td>\n",
       "      <td>0.0000</td>\n",
       "      <td>S</td>\n",
       "      <td>2</td>\n",
       "      <td>26</td>\n",
       "      <td>S</td>\n",
       "      <td>N</td>\n",
       "      <td>2.0</td>\n",
       "      <td>1.0</td>\n",
       "      <td>S</td>\n",
       "      <td>...</td>\n",
       "      <td>522940.27</td>\n",
       "      <td>24860.40</td>\n",
       "      <td>319315.62</td>\n",
       "      <td>867116.29</td>\n",
       "      <td>1</td>\n",
       "      <td>1</td>\n",
       "      <td>1438519</td>\n",
       "      <td>0</td>\n",
       "      <td>2020-01-01</td>\n",
       "      <td>56</td>\n",
       "    </tr>\n",
       "    <tr>\n",
       "      <th>3</th>\n",
       "      <td>NaN</td>\n",
       "      <td>0.0000</td>\n",
       "      <td>N</td>\n",
       "      <td>8</td>\n",
       "      <td>23</td>\n",
       "      <td>N</td>\n",
       "      <td>N</td>\n",
       "      <td>2.0</td>\n",
       "      <td>NaN</td>\n",
       "      <td>N</td>\n",
       "      <td>...</td>\n",
       "      <td>1593.00</td>\n",
       "      <td>21472.36</td>\n",
       "      <td>2967.48</td>\n",
       "      <td>26032.84</td>\n",
       "      <td>1</td>\n",
       "      <td>1</td>\n",
       "      <td>1426138</td>\n",
       "      <td>1</td>\n",
       "      <td>2020-01-01</td>\n",
       "      <td>56</td>\n",
       "    </tr>\n",
       "    <tr>\n",
       "      <th>4</th>\n",
       "      <td>NaN</td>\n",
       "      <td>0.0000</td>\n",
       "      <td>S</td>\n",
       "      <td>2</td>\n",
       "      <td>33</td>\n",
       "      <td>S</td>\n",
       "      <td>N</td>\n",
       "      <td>2.0</td>\n",
       "      <td>NaN</td>\n",
       "      <td>N</td>\n",
       "      <td>...</td>\n",
       "      <td>2078.97</td>\n",
       "      <td>19.44</td>\n",
       "      <td>46.35</td>\n",
       "      <td>2144.76</td>\n",
       "      <td>1</td>\n",
       "      <td>1</td>\n",
       "      <td>1474504</td>\n",
       "      <td>0</td>\n",
       "      <td>2020-01-01</td>\n",
       "      <td>59</td>\n",
       "    </tr>\n",
       "  </tbody>\n",
       "</table>\n",
       "<p>5 rows × 21 columns</p>\n",
       "</div>"
      ],
      "text/plain": [
       "   Escolaridade  Renda Mensal Informal Dependentes  Estado Civil  Idade  \\\n",
       "0           NaN                 0.0000           S             2     36   \n",
       "1           1.0              1894.5078           N             2     39   \n",
       "2           1.0                 0.0000           S             2     26   \n",
       "3           NaN                 0.0000           N             8     23   \n",
       "4           NaN                 0.0000           S             2     33   \n",
       "\n",
       "  Conta Poupanca Conta Salario  Quant Adiantamento Deposito  Qtd Fonte Renda  \\\n",
       "0              S             N                          2.0              NaN   \n",
       "1              S             N                          2.0              1.0   \n",
       "2              S             N                          2.0              1.0   \n",
       "3              N             N                          2.0              NaN   \n",
       "4              S             N                          2.0              NaN   \n",
       "\n",
       "  Cheque Sem Fundo  ... Valor Emprestimo     Multa      Juros  \\\n",
       "0                N  ...          8174.32    263.25    5844.98   \n",
       "1                S  ...         41775.63   1607.29    7652.26   \n",
       "2                S  ...        522940.27  24860.40  319315.62   \n",
       "3                N  ...          1593.00  21472.36    2967.48   \n",
       "4                N  ...          2078.97     19.44      46.35   \n",
       "\n",
       "   Valor Emprestimo Atualizado  PAGO  Controle       ID  Genero        Data  \\\n",
       "0                     14282.55     1         1  1328587       1  2020-01-01   \n",
       "1                     51035.18     1         1  1424254       1  2020-01-01   \n",
       "2                    867116.29     1         1  1438519       0  2020-01-01   \n",
       "3                     26032.84     1         1  1426138       1  2020-01-01   \n",
       "4                      2144.76     1         1  1474504       0  2020-01-01   \n",
       "\n",
       "  Estado  \n",
       "0     57  \n",
       "1     59  \n",
       "2     56  \n",
       "3     56  \n",
       "4     59  \n",
       "\n",
       "[5 rows x 21 columns]"
      ]
     },
     "execution_count": 21,
     "metadata": {},
     "output_type": "execute_result"
    }
   ],
   "source": [
    "df.head()"
   ]
  },
  {
   "cell_type": "markdown",
   "metadata": {},
   "source": [
    "#### Faremos o mesmo para as colunas 'Escolaridade' e 'Qtd Fonte Renda'.\n",
    "\n",
    "> ##### Aqui cabe o mesmo comentário da variável anterior, poderíamos retirar essas variáveis, essa seria outra forma de abordar o problema e talvez até mais confiável, mas como temos \"poucas\" linhas no nosso dataset, optei aqui por preencher estes valores ao invés de retirar essas instâncias ou então remover completamente estas variáveis do nosso dataset."
   ]
  },
  {
   "cell_type": "code",
   "execution_count": 22,
   "metadata": {},
   "outputs": [
    {
     "data": {
      "text/plain": [
       "35775"
      ]
     },
     "execution_count": 22,
     "metadata": {},
     "output_type": "execute_result"
    }
   ],
   "source": [
    "df['Escolaridade'].isna().sum()"
   ]
  },
  {
   "cell_type": "code",
   "execution_count": 23,
   "metadata": {},
   "outputs": [
    {
     "data": {
      "text/plain": [
       "1.0"
      ]
     },
     "execution_count": 23,
     "metadata": {},
     "output_type": "execute_result"
    }
   ],
   "source": [
    "escolaridade_moda = df['Escolaridade'].mode(dropna=True)[0]\n",
    "escolaridade_moda"
   ]
  },
  {
   "cell_type": "code",
   "execution_count": 24,
   "metadata": {},
   "outputs": [],
   "source": [
    "df['Escolaridade'].fillna(value=escolaridade_moda, inplace=True)"
   ]
  },
  {
   "cell_type": "code",
   "execution_count": 25,
   "metadata": {},
   "outputs": [
    {
     "data": {
      "text/plain": [
       "0"
      ]
     },
     "execution_count": 25,
     "metadata": {},
     "output_type": "execute_result"
    }
   ],
   "source": [
    "df['Escolaridade'].isna().sum()"
   ]
  },
  {
   "cell_type": "code",
   "execution_count": 26,
   "metadata": {},
   "outputs": [],
   "source": [
    "df['Escolaridade'] = df['Escolaridade'].astype('int64') # convertendo para tipo int64"
   ]
  },
  {
   "cell_type": "code",
   "execution_count": 27,
   "metadata": {},
   "outputs": [
    {
     "data": {
      "text/plain": [
       "37584"
      ]
     },
     "execution_count": 27,
     "metadata": {},
     "output_type": "execute_result"
    }
   ],
   "source": [
    "df['Qtd Fonte Renda'].isna().sum()"
   ]
  },
  {
   "cell_type": "code",
   "execution_count": 28,
   "metadata": {},
   "outputs": [
    {
     "data": {
      "text/plain": [
       "1.0"
      ]
     },
     "execution_count": 28,
     "metadata": {},
     "output_type": "execute_result"
    }
   ],
   "source": [
    "qtd_fonte_renda_moda = df['Qtd Fonte Renda'].mode(dropna=True)[0]\n",
    "qtd_fonte_renda_moda"
   ]
  },
  {
   "cell_type": "code",
   "execution_count": 29,
   "metadata": {},
   "outputs": [],
   "source": [
    "df['Qtd Fonte Renda'].fillna(value=qtd_fonte_renda_moda, inplace=True)"
   ]
  },
  {
   "cell_type": "code",
   "execution_count": 30,
   "metadata": {},
   "outputs": [],
   "source": [
    "df['Qtd Fonte Renda'] = df['Qtd Fonte Renda'].astype('int64') # convertendo para tipo int64"
   ]
  },
  {
   "cell_type": "code",
   "execution_count": 31,
   "metadata": {},
   "outputs": [
    {
     "data": {
      "text/plain": [
       "0"
      ]
     },
     "execution_count": 31,
     "metadata": {},
     "output_type": "execute_result"
    }
   ],
   "source": [
    "df['Qtd Fonte Renda'].isna().sum()"
   ]
  },
  {
   "cell_type": "code",
   "execution_count": 32,
   "metadata": {},
   "outputs": [
    {
     "data": {
      "text/plain": [
       "<matplotlib.axes._subplots.AxesSubplot at 0x1e8052ef888>"
      ]
     },
     "execution_count": 32,
     "metadata": {},
     "output_type": "execute_result"
    },
    {
     "data": {
      "image/png": "[encoded data removed]",
      "text/plain": [
       "<Figure size 432x288 with 1 Axes>"
      ]
     },
     "metadata": {
      "needs_background": "light"
     },
     "output_type": "display_data"
    }
   ],
   "source": [
    "sns.heatmap(df.isnull(),yticklabels=False,cbar=False,cmap='viridis') #fonte: https://github.com/krishnaik06/EDA1/blob/master/EDA.ipynb"
   ]
  },
  {
   "cell_type": "markdown",
   "metadata": {},
   "source": [
    "##### Em relação às Datas presentes no dataset, vemos abaixo que **TODOS** os nossos dados tiveram sua última atualização no início do ano de 2020"
   ]
  },
  {
   "cell_type": "code",
   "execution_count": 33,
   "metadata": {},
   "outputs": [
    {
     "data": {
      "text/plain": [
       "array(['2020-01-01'], dtype=object)"
      ]
     },
     "execution_count": 33,
     "metadata": {},
     "output_type": "execute_result"
    }
   ],
   "source": [
    "df.Data.unique()"
   ]
  },
  {
   "cell_type": "markdown",
   "metadata": {},
   "source": [
    "### 2.2 Duplicatas"
   ]
  },
  {
   "cell_type": "code",
   "execution_count": 34,
   "metadata": {},
   "outputs": [
    {
     "data": {
      "text/html": [
       "<div>\n",
       "<style scoped>\n",
       "    .dataframe tbody tr th:only-of-type {\n",
       "        vertical-align: middle;\n",
       "    }\n",
       "\n",
       "    .dataframe tbody tr th {\n",
       "        vertical-align: top;\n",
       "    }\n",
       "\n",
       "    .dataframe thead th {\n",
       "        text-align: right;\n",
       "    }\n",
       "</style>\n",
       "<table border=\"1\" class=\"dataframe\">\n",
       "  <thead>\n",
       "    <tr style=\"text-align: right;\">\n",
       "      <th></th>\n",
       "      <th>Escolaridade</th>\n",
       "      <th>Renda Mensal Informal</th>\n",
       "      <th>Dependentes</th>\n",
       "      <th>Estado Civil</th>\n",
       "      <th>Idade</th>\n",
       "      <th>Conta Poupanca</th>\n",
       "      <th>Conta Salario</th>\n",
       "      <th>Quant Adiantamento Deposito</th>\n",
       "      <th>Qtd Fonte Renda</th>\n",
       "      <th>Cheque Sem Fundo</th>\n",
       "      <th>...</th>\n",
       "      <th>Valor Emprestimo</th>\n",
       "      <th>Multa</th>\n",
       "      <th>Juros</th>\n",
       "      <th>Valor Emprestimo Atualizado</th>\n",
       "      <th>PAGO</th>\n",
       "      <th>Controle</th>\n",
       "      <th>ID</th>\n",
       "      <th>Genero</th>\n",
       "      <th>Data</th>\n",
       "      <th>Estado</th>\n",
       "    </tr>\n",
       "  </thead>\n",
       "  <tbody>\n",
       "    <tr>\n",
       "      <th>11568</th>\n",
       "      <td>1</td>\n",
       "      <td>0.0000</td>\n",
       "      <td>S</td>\n",
       "      <td>2</td>\n",
       "      <td>32</td>\n",
       "      <td>S</td>\n",
       "      <td>N</td>\n",
       "      <td>2.0</td>\n",
       "      <td>1</td>\n",
       "      <td>N</td>\n",
       "      <td>...</td>\n",
       "      <td>1923.36</td>\n",
       "      <td>13.21</td>\n",
       "      <td>354.01</td>\n",
       "      <td>2290.58</td>\n",
       "      <td>1</td>\n",
       "      <td>1</td>\n",
       "      <td>1284016</td>\n",
       "      <td>0</td>\n",
       "      <td>2020-01-01</td>\n",
       "      <td>58</td>\n",
       "    </tr>\n",
       "    <tr>\n",
       "      <th>32141</th>\n",
       "      <td>1</td>\n",
       "      <td>71.4624</td>\n",
       "      <td>N</td>\n",
       "      <td>2</td>\n",
       "      <td>31</td>\n",
       "      <td>S</td>\n",
       "      <td>N</td>\n",
       "      <td>2.0</td>\n",
       "      <td>2</td>\n",
       "      <td>N</td>\n",
       "      <td>...</td>\n",
       "      <td>9730.35</td>\n",
       "      <td>975.29</td>\n",
       "      <td>9312.20</td>\n",
       "      <td>20017.84</td>\n",
       "      <td>1</td>\n",
       "      <td>1</td>\n",
       "      <td>1284016</td>\n",
       "      <td>1</td>\n",
       "      <td>2020-01-01</td>\n",
       "      <td>59</td>\n",
       "    </tr>\n",
       "    <tr>\n",
       "      <th>37485</th>\n",
       "      <td>1</td>\n",
       "      <td>0.0000</td>\n",
       "      <td>S</td>\n",
       "      <td>2</td>\n",
       "      <td>38</td>\n",
       "      <td>S</td>\n",
       "      <td>N</td>\n",
       "      <td>2.0</td>\n",
       "      <td>1</td>\n",
       "      <td>S</td>\n",
       "      <td>...</td>\n",
       "      <td>1593.00</td>\n",
       "      <td>3015.06</td>\n",
       "      <td>2882.26</td>\n",
       "      <td>7490.32</td>\n",
       "      <td>1</td>\n",
       "      <td>1</td>\n",
       "      <td>1304080</td>\n",
       "      <td>0</td>\n",
       "      <td>2020-01-01</td>\n",
       "      <td>59</td>\n",
       "    </tr>\n",
       "    <tr>\n",
       "      <th>43156</th>\n",
       "      <td>1</td>\n",
       "      <td>0.0000</td>\n",
       "      <td>N</td>\n",
       "      <td>4</td>\n",
       "      <td>33</td>\n",
       "      <td>S</td>\n",
       "      <td>N</td>\n",
       "      <td>2.0</td>\n",
       "      <td>1</td>\n",
       "      <td>N</td>\n",
       "      <td>...</td>\n",
       "      <td>7053.00</td>\n",
       "      <td>218.40</td>\n",
       "      <td>5469.45</td>\n",
       "      <td>12740.85</td>\n",
       "      <td>0</td>\n",
       "      <td>1</td>\n",
       "      <td>1304080</td>\n",
       "      <td>1</td>\n",
       "      <td>2020-01-01</td>\n",
       "      <td>58</td>\n",
       "    </tr>\n",
       "    <tr>\n",
       "      <th>21023</th>\n",
       "      <td>1</td>\n",
       "      <td>2.6900</td>\n",
       "      <td>N</td>\n",
       "      <td>2</td>\n",
       "      <td>37</td>\n",
       "      <td>S</td>\n",
       "      <td>N</td>\n",
       "      <td>2.0</td>\n",
       "      <td>1</td>\n",
       "      <td>N</td>\n",
       "      <td>...</td>\n",
       "      <td>64605.42</td>\n",
       "      <td>2520.51</td>\n",
       "      <td>63826.29</td>\n",
       "      <td>30790.22</td>\n",
       "      <td>1</td>\n",
       "      <td>1</td>\n",
       "      <td>1304200</td>\n",
       "      <td>1</td>\n",
       "      <td>2020-01-01</td>\n",
       "      <td>59</td>\n",
       "    </tr>\n",
       "    <tr>\n",
       "      <th>...</th>\n",
       "      <td>...</td>\n",
       "      <td>...</td>\n",
       "      <td>...</td>\n",
       "      <td>...</td>\n",
       "      <td>...</td>\n",
       "      <td>...</td>\n",
       "      <td>...</td>\n",
       "      <td>...</td>\n",
       "      <td>...</td>\n",
       "      <td>...</td>\n",
       "      <td>...</td>\n",
       "      <td>...</td>\n",
       "      <td>...</td>\n",
       "      <td>...</td>\n",
       "      <td>...</td>\n",
       "      <td>...</td>\n",
       "      <td>...</td>\n",
       "      <td>...</td>\n",
       "      <td>...</td>\n",
       "      <td>...</td>\n",
       "      <td>...</td>\n",
       "    </tr>\n",
       "    <tr>\n",
       "      <th>38943</th>\n",
       "      <td>1</td>\n",
       "      <td>1250.1980</td>\n",
       "      <td>N</td>\n",
       "      <td>2</td>\n",
       "      <td>30</td>\n",
       "      <td>S</td>\n",
       "      <td>N</td>\n",
       "      <td>2.0</td>\n",
       "      <td>2</td>\n",
       "      <td>N</td>\n",
       "      <td>...</td>\n",
       "      <td>1593.00</td>\n",
       "      <td>66834.90</td>\n",
       "      <td>41898.80</td>\n",
       "      <td>10164.70</td>\n",
       "      <td>1</td>\n",
       "      <td>1</td>\n",
       "      <td>21631527280</td>\n",
       "      <td>0</td>\n",
       "      <td>2020-01-01</td>\n",
       "      <td>58</td>\n",
       "    </tr>\n",
       "    <tr>\n",
       "      <th>42230</th>\n",
       "      <td>1</td>\n",
       "      <td>0.0000</td>\n",
       "      <td>N</td>\n",
       "      <td>8</td>\n",
       "      <td>31</td>\n",
       "      <td>N</td>\n",
       "      <td>N</td>\n",
       "      <td>2.0</td>\n",
       "      <td>1</td>\n",
       "      <td>N</td>\n",
       "      <td>...</td>\n",
       "      <td>54131.41</td>\n",
       "      <td>52538.41</td>\n",
       "      <td>100295.82</td>\n",
       "      <td>106803.64</td>\n",
       "      <td>0</td>\n",
       "      <td>1</td>\n",
       "      <td>23997864880</td>\n",
       "      <td>1</td>\n",
       "      <td>2020-01-01</td>\n",
       "      <td>58</td>\n",
       "    </tr>\n",
       "    <tr>\n",
       "      <th>42229</th>\n",
       "      <td>1</td>\n",
       "      <td>0.0000</td>\n",
       "      <td>N</td>\n",
       "      <td>8</td>\n",
       "      <td>31</td>\n",
       "      <td>N</td>\n",
       "      <td>N</td>\n",
       "      <td>2.0</td>\n",
       "      <td>1</td>\n",
       "      <td>N</td>\n",
       "      <td>...</td>\n",
       "      <td>12618.21</td>\n",
       "      <td>11025.21</td>\n",
       "      <td>21047.13</td>\n",
       "      <td>44690.55</td>\n",
       "      <td>0</td>\n",
       "      <td>1</td>\n",
       "      <td>23997864880</td>\n",
       "      <td>1</td>\n",
       "      <td>2020-01-01</td>\n",
       "      <td>58</td>\n",
       "    </tr>\n",
       "    <tr>\n",
       "      <th>42234</th>\n",
       "      <td>1</td>\n",
       "      <td>0.0000</td>\n",
       "      <td>N</td>\n",
       "      <td>8</td>\n",
       "      <td>31</td>\n",
       "      <td>N</td>\n",
       "      <td>N</td>\n",
       "      <td>2.0</td>\n",
       "      <td>1</td>\n",
       "      <td>N</td>\n",
       "      <td>...</td>\n",
       "      <td>29925.33</td>\n",
       "      <td>28332.33</td>\n",
       "      <td>53712.43</td>\n",
       "      <td>11808.09</td>\n",
       "      <td>0</td>\n",
       "      <td>1</td>\n",
       "      <td>23997864892</td>\n",
       "      <td>0</td>\n",
       "      <td>2020-01-01</td>\n",
       "      <td>59</td>\n",
       "    </tr>\n",
       "    <tr>\n",
       "      <th>42235</th>\n",
       "      <td>1</td>\n",
       "      <td>0.0000</td>\n",
       "      <td>N</td>\n",
       "      <td>8</td>\n",
       "      <td>31</td>\n",
       "      <td>N</td>\n",
       "      <td>N</td>\n",
       "      <td>2.0</td>\n",
       "      <td>1</td>\n",
       "      <td>N</td>\n",
       "      <td>...</td>\n",
       "      <td>33826.13</td>\n",
       "      <td>32233.13</td>\n",
       "      <td>61107.57</td>\n",
       "      <td>27004.83</td>\n",
       "      <td>0</td>\n",
       "      <td>1</td>\n",
       "      <td>23997864892</td>\n",
       "      <td>0</td>\n",
       "      <td>2020-01-01</td>\n",
       "      <td>56</td>\n",
       "    </tr>\n",
       "  </tbody>\n",
       "</table>\n",
       "<p>9212 rows × 21 columns</p>\n",
       "</div>"
      ],
      "text/plain": [
       "       Escolaridade  Renda Mensal Informal Dependentes  Estado Civil  Idade  \\\n",
       "11568             1                 0.0000           S             2     32   \n",
       "32141             1                71.4624           N             2     31   \n",
       "37485             1                 0.0000           S             2     38   \n",
       "43156             1                 0.0000           N             4     33   \n",
       "21023             1                 2.6900           N             2     37   \n",
       "...             ...                    ...         ...           ...    ...   \n",
       "38943             1              1250.1980           N             2     30   \n",
       "42230             1                 0.0000           N             8     31   \n",
       "42229             1                 0.0000           N             8     31   \n",
       "42234             1                 0.0000           N             8     31   \n",
       "42235             1                 0.0000           N             8     31   \n",
       "\n",
       "      Conta Poupanca Conta Salario  Quant Adiantamento Deposito  \\\n",
       "11568              S             N                          2.0   \n",
       "32141              S             N                          2.0   \n",
       "37485              S             N                          2.0   \n",
       "43156              S             N                          2.0   \n",
       "21023              S             N                          2.0   \n",
       "...              ...           ...                          ...   \n",
       "38943              S             N                          2.0   \n",
       "42230              N             N                          2.0   \n",
       "42229              N             N                          2.0   \n",
       "42234              N             N                          2.0   \n",
       "42235              N             N                          2.0   \n",
       "\n",
       "       Qtd Fonte Renda Cheque Sem Fundo  ... Valor Emprestimo     Multa  \\\n",
       "11568                1                N  ...          1923.36     13.21   \n",
       "32141                2                N  ...          9730.35    975.29   \n",
       "37485                1                S  ...          1593.00   3015.06   \n",
       "43156                1                N  ...          7053.00    218.40   \n",
       "21023                1                N  ...         64605.42   2520.51   \n",
       "...                ...              ...  ...              ...       ...   \n",
       "38943                2                N  ...          1593.00  66834.90   \n",
       "42230                1                N  ...         54131.41  52538.41   \n",
       "42229                1                N  ...         12618.21  11025.21   \n",
       "42234                1                N  ...         29925.33  28332.33   \n",
       "42235                1                N  ...         33826.13  32233.13   \n",
       "\n",
       "           Juros  Valor Emprestimo Atualizado  PAGO  Controle           ID  \\\n",
       "11568     354.01                      2290.58     1         1      1284016   \n",
       "32141    9312.20                     20017.84     1         1      1284016   \n",
       "37485    2882.26                      7490.32     1         1      1304080   \n",
       "43156    5469.45                     12740.85     0         1      1304080   \n",
       "21023   63826.29                     30790.22     1         1      1304200   \n",
       "...          ...                          ...   ...       ...          ...   \n",
       "38943   41898.80                     10164.70     1         1  21631527280   \n",
       "42230  100295.82                    106803.64     0         1  23997864880   \n",
       "42229   21047.13                     44690.55     0         1  23997864880   \n",
       "42234   53712.43                     11808.09     0         1  23997864892   \n",
       "42235   61107.57                     27004.83     0         1  23997864892   \n",
       "\n",
       "       Genero        Data Estado  \n",
       "11568       0  2020-01-01     58  \n",
       "32141       1  2020-01-01     59  \n",
       "37485       0  2020-01-01     59  \n",
       "43156       1  2020-01-01     58  \n",
       "21023       1  2020-01-01     59  \n",
       "...       ...         ...    ...  \n",
       "38943       0  2020-01-01     58  \n",
       "42230       1  2020-01-01     58  \n",
       "42229       1  2020-01-01     58  \n",
       "42234       0  2020-01-01     59  \n",
       "42235       0  2020-01-01     56  \n",
       "\n",
       "[9212 rows x 21 columns]"
      ]
     },
     "execution_count": 34,
     "metadata": {},
     "output_type": "execute_result"
    }
   ],
   "source": [
    "duplicated_values = df[df.duplicated(subset=['ID'], keep=False)]\n",
    "duplicated_values.sort_values(by='ID')"
   ]
  },
  {
   "cell_type": "markdown",
   "metadata": {},
   "source": [
    "> ##### Comentário: Mesmo tendo valores repetidos na coluna 'ID', temos diversas combinações diferentes quando analisamos estas junto com a coluna 'Estado' (e as demais colunas como: 'Idade', 'Dependentes', 'Qtd Fonte Renda', 'Renda Mensal Informal', etc). Logo, entende-se que 'ID' e 'Estado' possuem uma relação de dependência mútua, trabalhando como chave primária da nossa tabela."
   ]
  },
  {
   "cell_type": "markdown",
   "metadata": {},
   "source": [
    "## 3. Análise das Variáveis\n",
    "\n",
    "### 3.1 Variáveis Numéricas"
   ]
  },
  {
   "cell_type": "code",
   "execution_count": 35,
   "metadata": {},
   "outputs": [
    {
     "data": {
      "text/html": [
       "<div>\n",
       "<style scoped>\n",
       "    .dataframe tbody tr th:only-of-type {\n",
       "        vertical-align: middle;\n",
       "    }\n",
       "\n",
       "    .dataframe tbody tr th {\n",
       "        vertical-align: top;\n",
       "    }\n",
       "\n",
       "    .dataframe thead th {\n",
       "        text-align: right;\n",
       "    }\n",
       "</style>\n",
       "<table border=\"1\" class=\"dataframe\">\n",
       "  <thead>\n",
       "    <tr style=\"text-align: right;\">\n",
       "      <th></th>\n",
       "      <th>Escolaridade</th>\n",
       "      <th>Renda Mensal Informal</th>\n",
       "      <th>Estado Civil</th>\n",
       "      <th>Idade</th>\n",
       "      <th>Quant Adiantamento Deposito</th>\n",
       "      <th>Qtd Fonte Renda</th>\n",
       "      <th>Valor Emprestimo</th>\n",
       "      <th>Multa</th>\n",
       "      <th>Juros</th>\n",
       "      <th>Valor Emprestimo Atualizado</th>\n",
       "      <th>PAGO</th>\n",
       "      <th>Controle</th>\n",
       "      <th>ID</th>\n",
       "      <th>Genero</th>\n",
       "      <th>Estado</th>\n",
       "    </tr>\n",
       "  </thead>\n",
       "  <tbody>\n",
       "    <tr>\n",
       "      <th>count</th>\n",
       "      <td>50390.000000</td>\n",
       "      <td>50390.000000</td>\n",
       "      <td>50390.000000</td>\n",
       "      <td>50390.000000</td>\n",
       "      <td>50390.000000</td>\n",
       "      <td>50390.000000</td>\n",
       "      <td>50390.000000</td>\n",
       "      <td>50390.000000</td>\n",
       "      <td>50390.000000</td>\n",
       "      <td>50390.000000</td>\n",
       "      <td>50390.000000</td>\n",
       "      <td>50390.000000</td>\n",
       "      <td>50390.000000</td>\n",
       "      <td>50390.000000</td>\n",
       "      <td>50390.000000</td>\n",
       "    </tr>\n",
       "    <tr>\n",
       "      <th>mean</th>\n",
       "      <td>1.050923</td>\n",
       "      <td>898.603785</td>\n",
       "      <td>3.503354</td>\n",
       "      <td>31.724529</td>\n",
       "      <td>2.045485</td>\n",
       "      <td>1.061401</td>\n",
       "      <td>51989.266062</td>\n",
       "      <td>60226.580975</td>\n",
       "      <td>64853.905193</td>\n",
       "      <td>172177.934766</td>\n",
       "      <td>0.790891</td>\n",
       "      <td>1.000000</td>\n",
       "      <td>3740828945.697599</td>\n",
       "      <td>0.498333</td>\n",
       "      <td>57.498055</td>\n",
       "    </tr>\n",
       "    <tr>\n",
       "      <th>std</th>\n",
       "      <td>0.285434</td>\n",
       "      <td>11060.986490</td>\n",
       "      <td>2.132091</td>\n",
       "      <td>8.565117</td>\n",
       "      <td>0.593811</td>\n",
       "      <td>0.271344</td>\n",
       "      <td>1588818.991816</td>\n",
       "      <td>2843941.338603</td>\n",
       "      <td>2728170.116998</td>\n",
       "      <td>7058289.875381</td>\n",
       "      <td>0.406676</td>\n",
       "      <td>0.000000</td>\n",
       "      <td>7248461992.172623</td>\n",
       "      <td>0.500002</td>\n",
       "      <td>1.118008</td>\n",
       "    </tr>\n",
       "    <tr>\n",
       "      <th>min</th>\n",
       "      <td>1.000000</td>\n",
       "      <td>0.000000</td>\n",
       "      <td>1.000000</td>\n",
       "      <td>18.000000</td>\n",
       "      <td>1.000000</td>\n",
       "      <td>1.000000</td>\n",
       "      <td>1431.000000</td>\n",
       "      <td>0.000000</td>\n",
       "      <td>0.000000</td>\n",
       "      <td>1441.500000</td>\n",
       "      <td>0.000000</td>\n",
       "      <td>1.000000</td>\n",
       "      <td>1168846.000000</td>\n",
       "      <td>0.000000</td>\n",
       "      <td>56.000000</td>\n",
       "    </tr>\n",
       "    <tr>\n",
       "      <th>25%</th>\n",
       "      <td>1.000000</td>\n",
       "      <td>0.000000</td>\n",
       "      <td>2.000000</td>\n",
       "      <td>26.000000</td>\n",
       "      <td>2.000000</td>\n",
       "      <td>1.000000</td>\n",
       "      <td>1593.000000</td>\n",
       "      <td>132.567500</td>\n",
       "      <td>274.272500</td>\n",
       "      <td>2840.910000</td>\n",
       "      <td>1.000000</td>\n",
       "      <td>1.000000</td>\n",
       "      <td>1383124.000000</td>\n",
       "      <td>0.000000</td>\n",
       "      <td>56.000000</td>\n",
       "    </tr>\n",
       "    <tr>\n",
       "      <th>50%</th>\n",
       "      <td>1.000000</td>\n",
       "      <td>0.000000</td>\n",
       "      <td>2.000000</td>\n",
       "      <td>30.000000</td>\n",
       "      <td>2.000000</td>\n",
       "      <td>1.000000</td>\n",
       "      <td>2298.035000</td>\n",
       "      <td>648.965000</td>\n",
       "      <td>1143.320000</td>\n",
       "      <td>5609.805000</td>\n",
       "      <td>1.000000</td>\n",
       "      <td>1.000000</td>\n",
       "      <td>1439557.000000</td>\n",
       "      <td>0.000000</td>\n",
       "      <td>57.000000</td>\n",
       "    </tr>\n",
       "    <tr>\n",
       "      <th>75%</th>\n",
       "      <td>1.000000</td>\n",
       "      <td>0.000000</td>\n",
       "      <td>4.000000</td>\n",
       "      <td>35.000000</td>\n",
       "      <td>2.000000</td>\n",
       "      <td>1.000000</td>\n",
       "      <td>7172.175000</td>\n",
       "      <td>3600.000000</td>\n",
       "      <td>5545.427500</td>\n",
       "      <td>17913.245000</td>\n",
       "      <td>1.000000</td>\n",
       "      <td>1.000000</td>\n",
       "      <td>46996419.250000</td>\n",
       "      <td>1.000000</td>\n",
       "      <td>58.000000</td>\n",
       "    </tr>\n",
       "    <tr>\n",
       "      <th>max</th>\n",
       "      <td>3.000000</td>\n",
       "      <td>516960.779100</td>\n",
       "      <td>11.000000</td>\n",
       "      <td>113.000000</td>\n",
       "      <td>18.000000</td>\n",
       "      <td>3.000000</td>\n",
       "      <td>286789375.440000</td>\n",
       "      <td>573775888.890000</td>\n",
       "      <td>570361922.350000</td>\n",
       "      <td>1430927186.680000</td>\n",
       "      <td>1.000000</td>\n",
       "      <td>1.000000</td>\n",
       "      <td>23998870468.000000</td>\n",
       "      <td>1.000000</td>\n",
       "      <td>59.000000</td>\n",
       "    </tr>\n",
       "  </tbody>\n",
       "</table>\n",
       "</div>"
      ],
      "text/plain": [
       "       Escolaridade Renda Mensal Informal  Estado Civil         Idade  \\\n",
       "count  50390.000000          50390.000000  50390.000000  50390.000000   \n",
       "mean       1.050923            898.603785      3.503354     31.724529   \n",
       "std        0.285434          11060.986490      2.132091      8.565117   \n",
       "min        1.000000              0.000000      1.000000     18.000000   \n",
       "25%        1.000000              0.000000      2.000000     26.000000   \n",
       "50%        1.000000              0.000000      2.000000     30.000000   \n",
       "75%        1.000000              0.000000      4.000000     35.000000   \n",
       "max        3.000000         516960.779100     11.000000    113.000000   \n",
       "\n",
       "      Quant Adiantamento Deposito Qtd Fonte Renda  Valor Emprestimo  \\\n",
       "count                50390.000000    50390.000000      50390.000000   \n",
       "mean                     2.045485        1.061401      51989.266062   \n",
       "std                      0.593811        0.271344    1588818.991816   \n",
       "min                      1.000000        1.000000       1431.000000   \n",
       "25%                      2.000000        1.000000       1593.000000   \n",
       "50%                      2.000000        1.000000       2298.035000   \n",
       "75%                      2.000000        1.000000       7172.175000   \n",
       "max                     18.000000        3.000000  286789375.440000   \n",
       "\n",
       "                  Multa             Juros Valor Emprestimo Atualizado  \\\n",
       "count      50390.000000      50390.000000                50390.000000   \n",
       "mean       60226.580975      64853.905193               172177.934766   \n",
       "std      2843941.338603    2728170.116998              7058289.875381   \n",
       "min            0.000000          0.000000                 1441.500000   \n",
       "25%          132.567500        274.272500                 2840.910000   \n",
       "50%          648.965000       1143.320000                 5609.805000   \n",
       "75%         3600.000000       5545.427500                17913.245000   \n",
       "max    573775888.890000  570361922.350000           1430927186.680000   \n",
       "\n",
       "               PAGO      Controle                  ID        Genero  \\\n",
       "count  50390.000000  50390.000000        50390.000000  50390.000000   \n",
       "mean       0.790891      1.000000   3740828945.697599      0.498333   \n",
       "std        0.406676      0.000000   7248461992.172623      0.500002   \n",
       "min        0.000000      1.000000      1168846.000000      0.000000   \n",
       "25%        1.000000      1.000000      1383124.000000      0.000000   \n",
       "50%        1.000000      1.000000      1439557.000000      0.000000   \n",
       "75%        1.000000      1.000000     46996419.250000      1.000000   \n",
       "max        1.000000      1.000000  23998870468.000000      1.000000   \n",
       "\n",
       "             Estado  \n",
       "count  50390.000000  \n",
       "mean      57.498055  \n",
       "std        1.118008  \n",
       "min       56.000000  \n",
       "25%       56.000000  \n",
       "50%       57.000000  \n",
       "75%       58.000000  \n",
       "max       59.000000  "
      ]
     },
     "execution_count": 35,
     "metadata": {},
     "output_type": "execute_result"
    }
   ],
   "source": [
    "df.describe().apply(lambda s: s.apply(lambda x: format(x, 'f')))"
   ]
  },
  {
   "cell_type": "markdown",
   "metadata": {},
   "source": [
    "> ##### Comentário: na tabela acima vemos que algumas das colunas numéricas possuem outliers (pontos fora da curva). Vamos tratá-los abaixo"
   ]
  },
  {
   "cell_type": "markdown",
   "metadata": {},
   "source": [
    "#### 3.1.1 Idade"
   ]
  },
  {
   "cell_type": "code",
   "execution_count": 36,
   "metadata": {},
   "outputs": [
    {
     "data": {
      "text/plain": [
       "<matplotlib.axes._subplots.AxesSubplot at 0x1e805307888>"
      ]
     },
     "execution_count": 36,
     "metadata": {},
     "output_type": "execute_result"
    },
    {
     "data": {
      "image/png": "[encoded data removed]",
      "text/plain": [
       "<Figure size 432x288 with 1 Axes>"
      ]
     },
     "metadata": {
      "needs_background": "light"
     },
     "output_type": "display_data"
    }
   ],
   "source": [
    "sns.distplot(df.Idade)"
   ]
  },
  {
   "cell_type": "code",
   "execution_count": 37,
   "metadata": {},
   "outputs": [],
   "source": [
    "idade_skew = df.Idade.skew()"
   ]
  },
  {
   "cell_type": "code",
   "execution_count": 38,
   "metadata": {},
   "outputs": [
    {
     "name": "stdout",
     "output_type": "stream",
     "text": [
      "Primeiro Quartil: 26.0\n",
      "Terceiro Quartil: 35.0\n",
      "Amplitude: 9.0\n",
      "Quantidade de Outliers: 2217\n"
     ]
    }
   ],
   "source": [
    "Q1_idade = df['Idade'].quantile(0.25)\n",
    "Q3_idade = df['Idade'].quantile(0.75)\n",
    "IQR_idade = Q3_idade - Q1_idade\n",
    "\n",
    "Lower_Whisker_idade = Q1_idade - (1.5 * IQR_idade)\n",
    "Upper_Whisker_idade = Q3_idade + (1.5 * IQR_idade)\n",
    "outliers_idade = df[(df.Idade > Upper_Whisker_idade) | (df.Idade < Lower_Whisker_idade)]['Multa'].count()\n",
    "\n",
    "print('Primeiro Quartil: ' + str(Q1_idade))\n",
    "print('Terceiro Quartil: ' + str(Q3_idade))\n",
    "print('Amplitude: ' + str(IQR_idade))\n",
    "print('Quantidade de Outliers: ' + str(outliers_idade))"
   ]
  },
  {
   "cell_type": "code",
   "execution_count": 39,
   "metadata": {},
   "outputs": [],
   "source": [
    "index = df[(df.Idade > Upper_Whisker_idade) | (df.Idade < Lower_Whisker_idade)].index\n",
    "df.drop(index, inplace=True)"
   ]
  },
  {
   "cell_type": "code",
   "execution_count": 40,
   "metadata": {},
   "outputs": [
    {
     "data": {
      "text/plain": [
       "<matplotlib.axes._subplots.AxesSubplot at 0x1e80545f308>"
      ]
     },
     "execution_count": 40,
     "metadata": {},
     "output_type": "execute_result"
    },
    {
     "data": {
      "image/png": "[encoded data removed]",
      "text/plain": [
       "<Figure size 432x288 with 1 Axes>"
      ]
     },
     "metadata": {
      "needs_background": "light"
     },
     "output_type": "display_data"
    }
   ],
   "source": [
    "sns.distplot(df.Idade)"
   ]
  },
  {
   "cell_type": "code",
   "execution_count": 41,
   "metadata": {},
   "outputs": [
    {
     "name": "stdout",
     "output_type": "stream",
     "text": [
      "Assimetria Original: 1.959950857085053\n",
      "Assimetria pós-transformação: 0.5717387309596961\n"
     ]
    }
   ],
   "source": [
    "print('Assimetria Original: ' + str(idade_skew))\n",
    "print('Assimetria pós-transformação: ' + str(df.Idade.skew()))"
   ]
  },
  {
   "cell_type": "markdown",
   "metadata": {},
   "source": [
    "#### 3.1.2 Valor Emprestimo"
   ]
  },
  {
   "cell_type": "code",
   "execution_count": 42,
   "metadata": {},
   "outputs": [
    {
     "data": {
      "text/plain": [
       "count    4.817300e+04\n",
       "mean     3.312720e+04\n",
       "std      7.983610e+05\n",
       "min      1.496480e+03\n",
       "25%      1.593000e+03\n",
       "50%      2.318900e+03\n",
       "75%      7.090600e+03\n",
       "max      1.473871e+08\n",
       "Name: Valor Emprestimo, dtype: float64"
      ]
     },
     "execution_count": 42,
     "metadata": {},
     "output_type": "execute_result"
    }
   ],
   "source": [
    "df['Valor Emprestimo'].describe()"
   ]
  },
  {
   "cell_type": "code",
   "execution_count": 43,
   "metadata": {},
   "outputs": [],
   "source": [
    "df['log_emprestimo'] = df['Valor Emprestimo'].apply(np.log2)"
   ]
  },
  {
   "cell_type": "code",
   "execution_count": 44,
   "metadata": {},
   "outputs": [
    {
     "data": {
      "text/plain": [
       "<matplotlib.axes._subplots.AxesSubplot at 0x1e805f5b948>"
      ]
     },
     "execution_count": 44,
     "metadata": {},
     "output_type": "execute_result"
    },
    {
     "data": {
      "image/png": "[encoded data removed]",
      "text/plain": [
       "<Figure size 432x288 with 2 Axes>"
      ]
     },
     "metadata": {
      "needs_background": "light"
     },
     "output_type": "display_data"
    }
   ],
   "source": [
    "fig, (ax1, ax2) = plt.subplots(1, 2)\n",
    "sns.distplot(df['Valor Emprestimo'], ax=ax1)\n",
    "sns.distplot(df.log_emprestimo, ax=ax2)"
   ]
  },
  {
   "cell_type": "code",
   "execution_count": 45,
   "metadata": {},
   "outputs": [
    {
     "name": "stdout",
     "output_type": "stream",
     "text": [
      "Assimetria Original: 137.54789705292694\n",
      "Assimetria pós-transformação: 1.7889369445328955\n"
     ]
    }
   ],
   "source": [
    "print('Assimetria Original: ' + str(df['Valor Emprestimo'].skew()))\n",
    "print('Assimetria pós-transformação: ' + str(df.log_emprestimo.skew()))"
   ]
  },
  {
   "cell_type": "markdown",
   "metadata": {},
   "source": [
    "#### 3.1.3 Multa"
   ]
  },
  {
   "cell_type": "code",
   "execution_count": 46,
   "metadata": {},
   "outputs": [],
   "source": [
    "df['log_multa'] = df[df['Multa'] > 0].Multa.apply(np.log2)"
   ]
  },
  {
   "cell_type": "markdown",
   "metadata": {},
   "source": [
    "> ##### Em relação aos valores de multa menores ou iguais a zero, teria de ser pensada uma outra forma de tratá-los, já que aplicar a transformação logarítmica faria com que esses valores fossem para -infinito.  \n",
    "> ##### Talvez poderia ser adotada até outra forma de tratar essa variável por esse motivo, cabe aqui a discussão."
   ]
  },
  {
   "cell_type": "code",
   "execution_count": 47,
   "metadata": {},
   "outputs": [
    {
     "data": {
      "text/plain": [
       "<matplotlib.axes._subplots.AxesSubplot at 0x1e8090ecc88>"
      ]
     },
     "execution_count": 47,
     "metadata": {},
     "output_type": "execute_result"
    },
    {
     "data": {
      "image/png": "[encoded data removed]",
      "text/plain": [
       "<Figure size 432x288 with 2 Axes>"
      ]
     },
     "metadata": {
      "needs_background": "light"
     },
     "output_type": "display_data"
    }
   ],
   "source": [
    "fig, (ax1, ax2) = plt.subplots(1, 2)\n",
    "sns.distplot(df.Multa, ax=ax1)\n",
    "sns.distplot(df.log_multa, ax=ax2)"
   ]
  },
  {
   "cell_type": "code",
   "execution_count": 48,
   "metadata": {},
   "outputs": [
    {
     "name": "stdout",
     "output_type": "stream",
     "text": [
      "Assimetria Original: 112.42635150138533\n",
      "Assimetria pós-transformação: 0.2848493741812475\n"
     ]
    }
   ],
   "source": [
    "print('Assimetria Original: ' + str(df.Multa.skew()))\n",
    "print('Assimetria pós-transformação: ' + str(df.log_multa.skew()))"
   ]
  },
  {
   "cell_type": "markdown",
   "metadata": {},
   "source": [
    "#### 3.1.4 Juros"
   ]
  },
  {
   "cell_type": "code",
   "execution_count": 49,
   "metadata": {},
   "outputs": [],
   "source": [
    "df['log_juros'] = df[df['Juros'] > 0].Juros.apply(np.log2)"
   ]
  },
  {
   "cell_type": "code",
   "execution_count": 50,
   "metadata": {},
   "outputs": [
    {
     "data": {
      "text/plain": [
       "<matplotlib.axes._subplots.AxesSubplot at 0x1e8092d0408>"
      ]
     },
     "execution_count": 50,
     "metadata": {},
     "output_type": "execute_result"
    },
    {
     "data": {
      "image/png": "[encoded data removed]",
      "text/plain": [
       "<Figure size 432x288 with 2 Axes>"
      ]
     },
     "metadata": {
      "needs_background": "light"
     },
     "output_type": "display_data"
    }
   ],
   "source": [
    "fig, (ax1, ax2) = plt.subplots(1, 2)\n",
    "sns.distplot(df.Juros, ax=ax1)\n",
    "sns.distplot(df.log_juros, ax=ax2)"
   ]
  },
  {
   "cell_type": "code",
   "execution_count": 51,
   "metadata": {},
   "outputs": [
    {
     "name": "stdout",
     "output_type": "stream",
     "text": [
      "Assimetria Original: 112.42635150138533\n",
      "Assimetria pós-transformação: 0.2848493741812475\n"
     ]
    }
   ],
   "source": [
    "print('Assimetria Original: ' + str(df.Multa.skew()))\n",
    "print('Assimetria pós-transformação: ' + str(df.log_multa.skew()))"
   ]
  },
  {
   "cell_type": "markdown",
   "metadata": {},
   "source": [
    "#### 3.1.5 Valor Emprestimo Atualizado"
   ]
  },
  {
   "cell_type": "code",
   "execution_count": 52,
   "metadata": {},
   "outputs": [],
   "source": [
    "df['log_emprestimo_atualizado'] = df['Valor Emprestimo Atualizado'].apply(np.log2)"
   ]
  },
  {
   "cell_type": "code",
   "execution_count": 53,
   "metadata": {},
   "outputs": [
    {
     "data": {
      "text/plain": [
       "<matplotlib.axes._subplots.AxesSubplot at 0x1e8094ad748>"
      ]
     },
     "execution_count": 53,
     "metadata": {},
     "output_type": "execute_result"
    },
    {
     "data": {
      "image/png": "[encoded data removed]",
      "text/plain": [
       "<Figure size 432x288 with 2 Axes>"
      ]
     },
     "metadata": {
      "needs_background": "light"
     },
     "output_type": "display_data"
    }
   ],
   "source": [
    "fig, (ax1, ax2) = plt.subplots(1,2)\n",
    "sns.distplot(df['Valor Emprestimo Atualizado'], ax=ax1)\n",
    "sns.distplot(df.log_emprestimo_atualizado, ax=ax2)"
   ]
  },
  {
   "cell_type": "code",
   "execution_count": 54,
   "metadata": {},
   "outputs": [
    {
     "name": "stdout",
     "output_type": "stream",
     "text": [
      "Assimetria Original: 113.09056150713913\n",
      "Assimetria pós-transformação: 1.4968910776652087\n"
     ]
    }
   ],
   "source": [
    "print('Assimetria Original: ' + str(df['Valor Emprestimo Atualizado'].skew()))\n",
    "print('Assimetria pós-transformação: ' + str(df.log_emprestimo_atualizado.skew()))"
   ]
  },
  {
   "cell_type": "markdown",
   "metadata": {},
   "source": [
    "#### 3.1.6 Renda Mensal Informal"
   ]
  },
  {
   "cell_type": "code",
   "execution_count": 55,
   "metadata": {},
   "outputs": [],
   "source": [
    "df['log_renda_informal'] = df[df['Renda Mensal Informal'] > 0]['Renda Mensal Informal'].apply(np.log2)"
   ]
  },
  {
   "cell_type": "markdown",
   "metadata": {},
   "source": [
    "> ##### Em relação aos valores de renda iguais a zero, da mesma forma que a variável 'Multa', teria de ser pensada uma outra forma de tratá-los, já que aplicar a transformação logarítmica faria com que esses valores fossem para -infinito.  \n",
    "> ##### Talvez poderia ser adotada até outra forma de tratar essa variável por esse motivo, cabe aqui a discussão."
   ]
  },
  {
   "cell_type": "code",
   "execution_count": 56,
   "metadata": {},
   "outputs": [
    {
     "data": {
      "text/plain": [
       "<matplotlib.axes._subplots.AxesSubplot at 0x1e809692188>"
      ]
     },
     "execution_count": 56,
     "metadata": {},
     "output_type": "execute_result"
    },
    {
     "data": {
      "image/png": "[encoded data removed]",
      "text/plain": [
       "<Figure size 432x288 with 2 Axes>"
      ]
     },
     "metadata": {
      "needs_background": "light"
     },
     "output_type": "display_data"
    }
   ],
   "source": [
    "fig, (ax1, ax2) = plt.subplots(1, 2)\n",
    "sns.distplot(df['Renda Mensal Informal'], ax=ax1)\n",
    "sns.distplot(df.log_renda_informal, ax=ax2)"
   ]
  },
  {
   "cell_type": "markdown",
   "metadata": {},
   "source": [
    "### 3.2 Variáveis Categóricas\n",
    "#### 3.2.1 Estado Civil  \n",
    "Vamos criar, para cada variável categórica, uma coluna com suas respectivas descrições, em formato de texto, para que possamos recorrer à elas quando necessário."
   ]
  },
  {
   "cell_type": "code",
   "execution_count": 57,
   "metadata": {},
   "outputs": [],
   "source": [
    "estado_civil_dict = {\n",
    "    2 : 'Solteiro', \n",
    "    8 : 'Casado(a) com comunhão de bens', \n",
    "    4 : 'Casado(a) com comunhão parcial de bens', \n",
    "    3 : 'Casado(a) com separação de bens', \n",
    "    1 : 'Divorciado',  \n",
    "    11 : 'Separado Judicialmente', \n",
    "    7 : 'Viúvo(a)',\n",
    "    9 : 'Outros'\n",
    "}"
   ]
  },
  {
   "cell_type": "code",
   "execution_count": 58,
   "metadata": {},
   "outputs": [
    {
     "data": {
      "text/plain": [
       "0                                      Solteiro\n",
       "1                                      Solteiro\n",
       "2                                      Solteiro\n",
       "3                Casado(a) com comunhão de bens\n",
       "4                                      Solteiro\n",
       "                          ...                  \n",
       "50385    Casado(a) com comunhão parcial de bens\n",
       "50386    Casado(a) com comunhão parcial de bens\n",
       "50387                                  Solteiro\n",
       "50388                                  Solteiro\n",
       "50389                                  Solteiro\n",
       "Name: estado_civil_desc, Length: 48173, dtype: object"
      ]
     },
     "execution_count": 58,
     "metadata": {},
     "output_type": "execute_result"
    }
   ],
   "source": [
    "df['estado_civil_desc'] = df['Estado Civil'].map(estado_civil_dict)\n",
    "df.estado_civil_desc"
   ]
  },
  {
   "cell_type": "markdown",
   "metadata": {},
   "source": [
    "#### 3.2.2 Escolaridade"
   ]
  },
  {
   "cell_type": "code",
   "execution_count": 59,
   "metadata": {},
   "outputs": [],
   "source": [
    "escolaridade_dict = {\n",
    "    1 : 'Nível Médio',\n",
    "    2 : 'Ensino Superior',\n",
    "    3 : 'Pós Graduação'\n",
    "}"
   ]
  },
  {
   "cell_type": "code",
   "execution_count": 60,
   "metadata": {},
   "outputs": [
    {
     "data": {
      "text/plain": [
       "0        Nível Médio\n",
       "1        Nível Médio\n",
       "2        Nível Médio\n",
       "3        Nível Médio\n",
       "4        Nível Médio\n",
       "            ...     \n",
       "50385    Nível Médio\n",
       "50386    Nível Médio\n",
       "50387    Nível Médio\n",
       "50388    Nível Médio\n",
       "50389    Nível Médio\n",
       "Name: escolaridade_desc, Length: 48173, dtype: object"
      ]
     },
     "execution_count": 60,
     "metadata": {},
     "output_type": "execute_result"
    }
   ],
   "source": [
    "df['escolaridade_desc'] = df.Escolaridade.map(escolaridade_dict)\n",
    "df.escolaridade_desc"
   ]
  },
  {
   "cell_type": "code",
   "execution_count": 61,
   "metadata": {},
   "outputs": [],
   "source": [
    "estado_dict = {\n",
    "    56 : 'São Paulo', \n",
    "    57 : 'Minas Gerais', \n",
    "    58 : 'Rio de Janeiro', \n",
    "    59 : 'Espirito Santo'\n",
    "}"
   ]
  },
  {
   "cell_type": "code",
   "execution_count": 62,
   "metadata": {},
   "outputs": [
    {
     "data": {
      "text/plain": [
       "0          Minas Gerais\n",
       "1        Espirito Santo\n",
       "2             São Paulo\n",
       "3             São Paulo\n",
       "4        Espirito Santo\n",
       "              ...      \n",
       "50385      Minas Gerais\n",
       "50386      Minas Gerais\n",
       "50387      Minas Gerais\n",
       "50388         São Paulo\n",
       "50389    Espirito Santo\n",
       "Name: estado_desc, Length: 48173, dtype: object"
      ]
     },
     "execution_count": 62,
     "metadata": {},
     "output_type": "execute_result"
    }
   ],
   "source": [
    "df['estado_desc'] = df.Estado.map(estado_dict)\n",
    "df.estado_desc"
   ]
  },
  {
   "cell_type": "markdown",
   "metadata": {},
   "source": [
    "### Padronização dos valores booleanos 'S' e 'N' (para que possam ser utilizados no modelo como 0s e 1s)"
   ]
  },
  {
   "cell_type": "code",
   "execution_count": 63,
   "metadata": {},
   "outputs": [],
   "source": [
    "dict = {\n",
    "    'S' : 1,\n",
    "    'N' : 0\n",
    "}\n",
    "\n",
    "df_bool = df.replace({\n",
    "            'Dependentes' : dict,\n",
    "            'Conta Poupanca' : dict,\n",
    "            'Conta Salario' : dict, \n",
    "            'Cheque Sem Fundo' : dict,\n",
    "            'Conta Conjunta' : dict})"
   ]
  },
  {
   "cell_type": "code",
   "execution_count": 64,
   "metadata": {},
   "outputs": [
    {
     "data": {
      "text/html": [
       "<div>\n",
       "<style scoped>\n",
       "    .dataframe tbody tr th:only-of-type {\n",
       "        vertical-align: middle;\n",
       "    }\n",
       "\n",
       "    .dataframe tbody tr th {\n",
       "        vertical-align: top;\n",
       "    }\n",
       "\n",
       "    .dataframe thead th {\n",
       "        text-align: right;\n",
       "    }\n",
       "</style>\n",
       "<table border=\"1\" class=\"dataframe\">\n",
       "  <thead>\n",
       "    <tr style=\"text-align: right;\">\n",
       "      <th></th>\n",
       "      <th>Escolaridade</th>\n",
       "      <th>Renda Mensal Informal</th>\n",
       "      <th>Dependentes</th>\n",
       "      <th>Estado Civil</th>\n",
       "      <th>Idade</th>\n",
       "      <th>Conta Poupanca</th>\n",
       "      <th>Conta Salario</th>\n",
       "      <th>Quant Adiantamento Deposito</th>\n",
       "      <th>Qtd Fonte Renda</th>\n",
       "      <th>Cheque Sem Fundo</th>\n",
       "      <th>...</th>\n",
       "      <th>Data</th>\n",
       "      <th>Estado</th>\n",
       "      <th>log_emprestimo</th>\n",
       "      <th>log_multa</th>\n",
       "      <th>log_juros</th>\n",
       "      <th>log_emprestimo_atualizado</th>\n",
       "      <th>log_renda_informal</th>\n",
       "      <th>estado_civil_desc</th>\n",
       "      <th>escolaridade_desc</th>\n",
       "      <th>estado_desc</th>\n",
       "    </tr>\n",
       "  </thead>\n",
       "  <tbody>\n",
       "    <tr>\n",
       "      <th>0</th>\n",
       "      <td>1</td>\n",
       "      <td>0.0000</td>\n",
       "      <td>1</td>\n",
       "      <td>2</td>\n",
       "      <td>36</td>\n",
       "      <td>1</td>\n",
       "      <td>0</td>\n",
       "      <td>2.0</td>\n",
       "      <td>1</td>\n",
       "      <td>0</td>\n",
       "      <td>...</td>\n",
       "      <td>2020-01-01</td>\n",
       "      <td>57</td>\n",
       "      <td>12.996883</td>\n",
       "      <td>8.040290</td>\n",
       "      <td>12.512982</td>\n",
       "      <td>13.801966</td>\n",
       "      <td>NaN</td>\n",
       "      <td>Solteiro</td>\n",
       "      <td>Nível Médio</td>\n",
       "      <td>Minas Gerais</td>\n",
       "    </tr>\n",
       "    <tr>\n",
       "      <th>1</th>\n",
       "      <td>1</td>\n",
       "      <td>1894.5078</td>\n",
       "      <td>0</td>\n",
       "      <td>2</td>\n",
       "      <td>39</td>\n",
       "      <td>1</td>\n",
       "      <td>0</td>\n",
       "      <td>2.0</td>\n",
       "      <td>1</td>\n",
       "      <td>1</td>\n",
       "      <td>...</td>\n",
       "      <td>2020-01-01</td>\n",
       "      <td>59</td>\n",
       "      <td>15.350374</td>\n",
       "      <td>10.650415</td>\n",
       "      <td>12.901670</td>\n",
       "      <td>15.639204</td>\n",
       "      <td>10.887607</td>\n",
       "      <td>Solteiro</td>\n",
       "      <td>Nível Médio</td>\n",
       "      <td>Espirito Santo</td>\n",
       "    </tr>\n",
       "    <tr>\n",
       "      <th>2</th>\n",
       "      <td>1</td>\n",
       "      <td>0.0000</td>\n",
       "      <td>1</td>\n",
       "      <td>2</td>\n",
       "      <td>26</td>\n",
       "      <td>1</td>\n",
       "      <td>0</td>\n",
       "      <td>2.0</td>\n",
       "      <td>1</td>\n",
       "      <td>1</td>\n",
       "      <td>...</td>\n",
       "      <td>2020-01-01</td>\n",
       "      <td>56</td>\n",
       "      <td>18.996287</td>\n",
       "      <td>14.601562</td>\n",
       "      <td>18.284624</td>\n",
       "      <td>19.725866</td>\n",
       "      <td>NaN</td>\n",
       "      <td>Solteiro</td>\n",
       "      <td>Nível Médio</td>\n",
       "      <td>São Paulo</td>\n",
       "    </tr>\n",
       "    <tr>\n",
       "      <th>3</th>\n",
       "      <td>1</td>\n",
       "      <td>0.0000</td>\n",
       "      <td>0</td>\n",
       "      <td>8</td>\n",
       "      <td>23</td>\n",
       "      <td>0</td>\n",
       "      <td>0</td>\n",
       "      <td>2.0</td>\n",
       "      <td>1</td>\n",
       "      <td>0</td>\n",
       "      <td>...</td>\n",
       "      <td>2020-01-01</td>\n",
       "      <td>56</td>\n",
       "      <td>10.637531</td>\n",
       "      <td>14.390193</td>\n",
       "      <td>11.535023</td>\n",
       "      <td>14.668045</td>\n",
       "      <td>NaN</td>\n",
       "      <td>Casado(a) com comunhão de bens</td>\n",
       "      <td>Nível Médio</td>\n",
       "      <td>São Paulo</td>\n",
       "    </tr>\n",
       "    <tr>\n",
       "      <th>4</th>\n",
       "      <td>1</td>\n",
       "      <td>0.0000</td>\n",
       "      <td>1</td>\n",
       "      <td>2</td>\n",
       "      <td>33</td>\n",
       "      <td>1</td>\n",
       "      <td>0</td>\n",
       "      <td>2.0</td>\n",
       "      <td>1</td>\n",
       "      <td>0</td>\n",
       "      <td>...</td>\n",
       "      <td>2020-01-01</td>\n",
       "      <td>59</td>\n",
       "      <td>11.021653</td>\n",
       "      <td>4.280956</td>\n",
       "      <td>5.534497</td>\n",
       "      <td>11.066601</td>\n",
       "      <td>NaN</td>\n",
       "      <td>Solteiro</td>\n",
       "      <td>Nível Médio</td>\n",
       "      <td>Espirito Santo</td>\n",
       "    </tr>\n",
       "  </tbody>\n",
       "</table>\n",
       "<p>5 rows × 29 columns</p>\n",
       "</div>"
      ],
      "text/plain": [
       "   Escolaridade  Renda Mensal Informal  Dependentes  Estado Civil  Idade  \\\n",
       "0             1                 0.0000            1             2     36   \n",
       "1             1              1894.5078            0             2     39   \n",
       "2             1                 0.0000            1             2     26   \n",
       "3             1                 0.0000            0             8     23   \n",
       "4             1                 0.0000            1             2     33   \n",
       "\n",
       "   Conta Poupanca  Conta Salario  Quant Adiantamento Deposito  \\\n",
       "0               1              0                          2.0   \n",
       "1               1              0                          2.0   \n",
       "2               1              0                          2.0   \n",
       "3               0              0                          2.0   \n",
       "4               1              0                          2.0   \n",
       "\n",
       "   Qtd Fonte Renda  Cheque Sem Fundo  ...        Data  Estado  log_emprestimo  \\\n",
       "0                1                 0  ...  2020-01-01      57       12.996883   \n",
       "1                1                 1  ...  2020-01-01      59       15.350374   \n",
       "2                1                 1  ...  2020-01-01      56       18.996287   \n",
       "3                1                 0  ...  2020-01-01      56       10.637531   \n",
       "4                1                 0  ...  2020-01-01      59       11.021653   \n",
       "\n",
       "   log_multa  log_juros  log_emprestimo_atualizado  log_renda_informal  \\\n",
       "0   8.040290  12.512982                  13.801966                 NaN   \n",
       "1  10.650415  12.901670                  15.639204           10.887607   \n",
       "2  14.601562  18.284624                  19.725866                 NaN   \n",
       "3  14.390193  11.535023                  14.668045                 NaN   \n",
       "4   4.280956   5.534497                  11.066601                 NaN   \n",
       "\n",
       "                estado_civil_desc  escolaridade_desc     estado_desc  \n",
       "0                        Solteiro        Nível Médio    Minas Gerais  \n",
       "1                        Solteiro        Nível Médio  Espirito Santo  \n",
       "2                        Solteiro        Nível Médio       São Paulo  \n",
       "3  Casado(a) com comunhão de bens        Nível Médio       São Paulo  \n",
       "4                        Solteiro        Nível Médio  Espirito Santo  \n",
       "\n",
       "[5 rows x 29 columns]"
      ]
     },
     "execution_count": 64,
     "metadata": {},
     "output_type": "execute_result"
    }
   ],
   "source": [
    "df_bool.head()"
   ]
  },
  {
   "cell_type": "markdown",
   "metadata": {},
   "source": [
    "> #### Comentário: a transformação da variável 'Dependentes' para 0 e 1, ao invés de 'S' e 'N' pode gerar confusão, podendo ser confundida com o **número** de dependentes e não o fato de tê-los ou não."
   ]
  },
  {
   "cell_type": "markdown",
   "metadata": {},
   "source": [
    "### 4. Relações entre variáveis\n",
    "#### Para detectar possíveis relações entre as variáveis, vamos plotar a Matriz de Correlação:"
   ]
  },
  {
   "cell_type": "code",
   "execution_count": 65,
   "metadata": {},
   "outputs": [
    {
     "data": {
      "text/html": [
       "<style  type=\"text/css\" >\n",
       "    #T_e95fd68a_c715_11ea_999a_d45d648f97bcrow0_col0 {\n",
       "            background-color:  #b40426;\n",
       "            color:  #f1f1f1;\n",
       "        }    #T_e95fd68a_c715_11ea_999a_d45d648f97bcrow0_col1 {\n",
       "            background-color:  #445acc;\n",
       "            color:  #f1f1f1;\n",
       "        }    #T_e95fd68a_c715_11ea_999a_d45d648f97bcrow0_col2 {\n",
       "            background-color:  #4e68d8;\n",
       "            color:  #000000;\n",
       "        }    #T_e95fd68a_c715_11ea_999a_d45d648f97bcrow0_col3 {\n",
       "            background-color:  #c3d5f4;\n",
       "            color:  #000000;\n",
       "        }    #T_e95fd68a_c715_11ea_999a_d45d648f97bcrow0_col4 {\n",
       "            background-color:  #5673e0;\n",
       "            color:  #000000;\n",
       "        }    #T_e95fd68a_c715_11ea_999a_d45d648f97bcrow0_col5 {\n",
       "            background-color:  #516ddb;\n",
       "            color:  #000000;\n",
       "        }    #T_e95fd68a_c715_11ea_999a_d45d648f97bcrow0_col6 {\n",
       "            background-color:  #5470de;\n",
       "            color:  #000000;\n",
       "        }    #T_e95fd68a_c715_11ea_999a_d45d648f97bcrow0_col7 {\n",
       "            background-color:  #5572df;\n",
       "            color:  #000000;\n",
       "        }    #T_e95fd68a_c715_11ea_999a_d45d648f97bcrow0_col8 {\n",
       "            background-color:  #6384eb;\n",
       "            color:  #000000;\n",
       "        }    #T_e95fd68a_c715_11ea_999a_d45d648f97bcrow0_col9 {\n",
       "            background-color:  #5d7ce6;\n",
       "            color:  #000000;\n",
       "        }    #T_e95fd68a_c715_11ea_999a_d45d648f97bcrow0_col10 {\n",
       "            background-color:  #5572df;\n",
       "            color:  #000000;\n",
       "        }    #T_e95fd68a_c715_11ea_999a_d45d648f97bcrow0_col11 {\n",
       "            background-color:  #6384eb;\n",
       "            color:  #000000;\n",
       "        }    #T_e95fd68a_c715_11ea_999a_d45d648f97bcrow0_col12 {\n",
       "            background-color:  #e0dbd8;\n",
       "            color:  #000000;\n",
       "        }    #T_e95fd68a_c715_11ea_999a_d45d648f97bcrow1_col0 {\n",
       "            background-color:  #445acc;\n",
       "            color:  #f1f1f1;\n",
       "        }    #T_e95fd68a_c715_11ea_999a_d45d648f97bcrow1_col1 {\n",
       "            background-color:  #b40426;\n",
       "            color:  #f1f1f1;\n",
       "        }    #T_e95fd68a_c715_11ea_999a_d45d648f97bcrow1_col2 {\n",
       "            background-color:  #5673e0;\n",
       "            color:  #000000;\n",
       "        }    #T_e95fd68a_c715_11ea_999a_d45d648f97bcrow1_col3 {\n",
       "            background-color:  #4c66d6;\n",
       "            color:  #000000;\n",
       "        }    #T_e95fd68a_c715_11ea_999a_d45d648f97bcrow1_col4 {\n",
       "            background-color:  #3f53c6;\n",
       "            color:  #f1f1f1;\n",
       "        }    #T_e95fd68a_c715_11ea_999a_d45d648f97bcrow1_col5 {\n",
       "            background-color:  #4055c8;\n",
       "            color:  #f1f1f1;\n",
       "        }    #T_e95fd68a_c715_11ea_999a_d45d648f97bcrow1_col6 {\n",
       "            background-color:  #445acc;\n",
       "            color:  #f1f1f1;\n",
       "        }    #T_e95fd68a_c715_11ea_999a_d45d648f97bcrow1_col7 {\n",
       "            background-color:  #4055c8;\n",
       "            color:  #f1f1f1;\n",
       "        }    #T_e95fd68a_c715_11ea_999a_d45d648f97bcrow1_col8 {\n",
       "            background-color:  #3b4cc0;\n",
       "            color:  #f1f1f1;\n",
       "        }    #T_e95fd68a_c715_11ea_999a_d45d648f97bcrow1_col9 {\n",
       "            background-color:  #6a8bef;\n",
       "            color:  #000000;\n",
       "        }    #T_e95fd68a_c715_11ea_999a_d45d648f97bcrow1_col10 {\n",
       "            background-color:  #6a8bef;\n",
       "            color:  #000000;\n",
       "        }    #T_e95fd68a_c715_11ea_999a_d45d648f97bcrow1_col11 {\n",
       "            background-color:  #536edd;\n",
       "            color:  #000000;\n",
       "        }    #T_e95fd68a_c715_11ea_999a_d45d648f97bcrow1_col12 {\n",
       "            background-color:  #455cce;\n",
       "            color:  #f1f1f1;\n",
       "        }    #T_e95fd68a_c715_11ea_999a_d45d648f97bcrow2_col0 {\n",
       "            background-color:  #4e68d8;\n",
       "            color:  #000000;\n",
       "        }    #T_e95fd68a_c715_11ea_999a_d45d648f97bcrow2_col1 {\n",
       "            background-color:  #5673e0;\n",
       "            color:  #000000;\n",
       "        }    #T_e95fd68a_c715_11ea_999a_d45d648f97bcrow2_col2 {\n",
       "            background-color:  #b40426;\n",
       "            color:  #f1f1f1;\n",
       "        }    #T_e95fd68a_c715_11ea_999a_d45d648f97bcrow2_col3 {\n",
       "            background-color:  #5e7de7;\n",
       "            color:  #000000;\n",
       "        }    #T_e95fd68a_c715_11ea_999a_d45d648f97bcrow2_col4 {\n",
       "            background-color:  #4055c8;\n",
       "            color:  #f1f1f1;\n",
       "        }    #T_e95fd68a_c715_11ea_999a_d45d648f97bcrow2_col5 {\n",
       "            background-color:  #4055c8;\n",
       "            color:  #f1f1f1;\n",
       "        }    #T_e95fd68a_c715_11ea_999a_d45d648f97bcrow2_col6 {\n",
       "            background-color:  #4055c8;\n",
       "            color:  #f1f1f1;\n",
       "        }    #T_e95fd68a_c715_11ea_999a_d45d648f97bcrow2_col7 {\n",
       "            background-color:  #4055c8;\n",
       "            color:  #f1f1f1;\n",
       "        }    #T_e95fd68a_c715_11ea_999a_d45d648f97bcrow2_col8 {\n",
       "            background-color:  #4b64d5;\n",
       "            color:  #f1f1f1;\n",
       "        }    #T_e95fd68a_c715_11ea_999a_d45d648f97bcrow2_col9 {\n",
       "            background-color:  #4a63d3;\n",
       "            color:  #f1f1f1;\n",
       "        }    #T_e95fd68a_c715_11ea_999a_d45d648f97bcrow2_col10 {\n",
       "            background-color:  #485fd1;\n",
       "            color:  #f1f1f1;\n",
       "        }    #T_e95fd68a_c715_11ea_999a_d45d648f97bcrow2_col11 {\n",
       "            background-color:  #4a63d3;\n",
       "            color:  #f1f1f1;\n",
       "        }    #T_e95fd68a_c715_11ea_999a_d45d648f97bcrow2_col12 {\n",
       "            background-color:  #5673e0;\n",
       "            color:  #000000;\n",
       "        }    #T_e95fd68a_c715_11ea_999a_d45d648f97bcrow3_col0 {\n",
       "            background-color:  #c3d5f4;\n",
       "            color:  #000000;\n",
       "        }    #T_e95fd68a_c715_11ea_999a_d45d648f97bcrow3_col1 {\n",
       "            background-color:  #4c66d6;\n",
       "            color:  #000000;\n",
       "        }    #T_e95fd68a_c715_11ea_999a_d45d648f97bcrow3_col2 {\n",
       "            background-color:  #5e7de7;\n",
       "            color:  #000000;\n",
       "        }    #T_e95fd68a_c715_11ea_999a_d45d648f97bcrow3_col3 {\n",
       "            background-color:  #b40426;\n",
       "            color:  #f1f1f1;\n",
       "        }    #T_e95fd68a_c715_11ea_999a_d45d648f97bcrow3_col4 {\n",
       "            background-color:  #445acc;\n",
       "            color:  #f1f1f1;\n",
       "        }    #T_e95fd68a_c715_11ea_999a_d45d648f97bcrow3_col5 {\n",
       "            background-color:  #4358cb;\n",
       "            color:  #f1f1f1;\n",
       "        }    #T_e95fd68a_c715_11ea_999a_d45d648f97bcrow3_col6 {\n",
       "            background-color:  #465ecf;\n",
       "            color:  #f1f1f1;\n",
       "        }    #T_e95fd68a_c715_11ea_999a_d45d648f97bcrow3_col7 {\n",
       "            background-color:  #445acc;\n",
       "            color:  #f1f1f1;\n",
       "        }    #T_e95fd68a_c715_11ea_999a_d45d648f97bcrow3_col8 {\n",
       "            background-color:  #5977e3;\n",
       "            color:  #000000;\n",
       "        }    #T_e95fd68a_c715_11ea_999a_d45d648f97bcrow3_col9 {\n",
       "            background-color:  #5572df;\n",
       "            color:  #000000;\n",
       "        }    #T_e95fd68a_c715_11ea_999a_d45d648f97bcrow3_col10 {\n",
       "            background-color:  #4961d2;\n",
       "            color:  #f1f1f1;\n",
       "        }    #T_e95fd68a_c715_11ea_999a_d45d648f97bcrow3_col11 {\n",
       "            background-color:  #5572df;\n",
       "            color:  #000000;\n",
       "        }    #T_e95fd68a_c715_11ea_999a_d45d648f97bcrow3_col12 {\n",
       "            background-color:  #d2dbe8;\n",
       "            color:  #000000;\n",
       "        }    #T_e95fd68a_c715_11ea_999a_d45d648f97bcrow4_col0 {\n",
       "            background-color:  #5673e0;\n",
       "            color:  #000000;\n",
       "        }    #T_e95fd68a_c715_11ea_999a_d45d648f97bcrow4_col1 {\n",
       "            background-color:  #3f53c6;\n",
       "            color:  #f1f1f1;\n",
       "        }    #T_e95fd68a_c715_11ea_999a_d45d648f97bcrow4_col2 {\n",
       "            background-color:  #4055c8;\n",
       "            color:  #f1f1f1;\n",
       "        }    #T_e95fd68a_c715_11ea_999a_d45d648f97bcrow4_col3 {\n",
       "            background-color:  #445acc;\n",
       "            color:  #f1f1f1;\n",
       "        }    #T_e95fd68a_c715_11ea_999a_d45d648f97bcrow4_col4 {\n",
       "            background-color:  #b40426;\n",
       "            color:  #f1f1f1;\n",
       "        }    #T_e95fd68a_c715_11ea_999a_d45d648f97bcrow4_col5 {\n",
       "            background-color:  #d1493f;\n",
       "            color:  #f1f1f1;\n",
       "        }    #T_e95fd68a_c715_11ea_999a_d45d648f97bcrow4_col6 {\n",
       "            background-color:  #e0654f;\n",
       "            color:  #000000;\n",
       "        }    #T_e95fd68a_c715_11ea_999a_d45d648f97bcrow4_col7 {\n",
       "            background-color:  #c12b30;\n",
       "            color:  #f1f1f1;\n",
       "        }    #T_e95fd68a_c715_11ea_999a_d45d648f97bcrow4_col8 {\n",
       "            background-color:  #7ea1fa;\n",
       "            color:  #000000;\n",
       "        }    #T_e95fd68a_c715_11ea_999a_d45d648f97bcrow4_col9 {\n",
       "            background-color:  #6485ec;\n",
       "            color:  #000000;\n",
       "        }    #T_e95fd68a_c715_11ea_999a_d45d648f97bcrow4_col10 {\n",
       "            background-color:  #6687ed;\n",
       "            color:  #000000;\n",
       "        }    #T_e95fd68a_c715_11ea_999a_d45d648f97bcrow4_col11 {\n",
       "            background-color:  #779af7;\n",
       "            color:  #000000;\n",
       "        }    #T_e95fd68a_c715_11ea_999a_d45d648f97bcrow4_col12 {\n",
       "            background-color:  #506bda;\n",
       "            color:  #000000;\n",
       "        }    #T_e95fd68a_c715_11ea_999a_d45d648f97bcrow5_col0 {\n",
       "            background-color:  #516ddb;\n",
       "            color:  #000000;\n",
       "        }    #T_e95fd68a_c715_11ea_999a_d45d648f97bcrow5_col1 {\n",
       "            background-color:  #4055c8;\n",
       "            color:  #f1f1f1;\n",
       "        }    #T_e95fd68a_c715_11ea_999a_d45d648f97bcrow5_col2 {\n",
       "            background-color:  #4055c8;\n",
       "            color:  #f1f1f1;\n",
       "        }    #T_e95fd68a_c715_11ea_999a_d45d648f97bcrow5_col3 {\n",
       "            background-color:  #4358cb;\n",
       "            color:  #f1f1f1;\n",
       "        }    #T_e95fd68a_c715_11ea_999a_d45d648f97bcrow5_col4 {\n",
       "            background-color:  #d1493f;\n",
       "            color:  #f1f1f1;\n",
       "        }    #T_e95fd68a_c715_11ea_999a_d45d648f97bcrow5_col5 {\n",
       "            background-color:  #b40426;\n",
       "            color:  #f1f1f1;\n",
       "        }    #T_e95fd68a_c715_11ea_999a_d45d648f97bcrow5_col6 {\n",
       "            background-color:  #d0473d;\n",
       "            color:  #f1f1f1;\n",
       "        }    #T_e95fd68a_c715_11ea_999a_d45d648f97bcrow5_col7 {\n",
       "            background-color:  #ba162b;\n",
       "            color:  #f1f1f1;\n",
       "        }    #T_e95fd68a_c715_11ea_999a_d45d648f97bcrow5_col8 {\n",
       "            background-color:  #7396f5;\n",
       "            color:  #000000;\n",
       "        }    #T_e95fd68a_c715_11ea_999a_d45d648f97bcrow5_col9 {\n",
       "            background-color:  #6b8df0;\n",
       "            color:  #000000;\n",
       "        }    #T_e95fd68a_c715_11ea_999a_d45d648f97bcrow5_col10 {\n",
       "            background-color:  #688aef;\n",
       "            color:  #000000;\n",
       "        }    #T_e95fd68a_c715_11ea_999a_d45d648f97bcrow5_col11 {\n",
       "            background-color:  #7b9ff9;\n",
       "            color:  #000000;\n",
       "        }    #T_e95fd68a_c715_11ea_999a_d45d648f97bcrow5_col12 {\n",
       "            background-color:  #4f69d9;\n",
       "            color:  #000000;\n",
       "        }    #T_e95fd68a_c715_11ea_999a_d45d648f97bcrow6_col0 {\n",
       "            background-color:  #5470de;\n",
       "            color:  #000000;\n",
       "        }    #T_e95fd68a_c715_11ea_999a_d45d648f97bcrow6_col1 {\n",
       "            background-color:  #445acc;\n",
       "            color:  #f1f1f1;\n",
       "        }    #T_e95fd68a_c715_11ea_999a_d45d648f97bcrow6_col2 {\n",
       "            background-color:  #4055c8;\n",
       "            color:  #f1f1f1;\n",
       "        }    #T_e95fd68a_c715_11ea_999a_d45d648f97bcrow6_col3 {\n",
       "            background-color:  #465ecf;\n",
       "            color:  #f1f1f1;\n",
       "        }    #T_e95fd68a_c715_11ea_999a_d45d648f97bcrow6_col4 {\n",
       "            background-color:  #e0654f;\n",
       "            color:  #000000;\n",
       "        }    #T_e95fd68a_c715_11ea_999a_d45d648f97bcrow6_col5 {\n",
       "            background-color:  #d0473d;\n",
       "            color:  #f1f1f1;\n",
       "        }    #T_e95fd68a_c715_11ea_999a_d45d648f97bcrow6_col6 {\n",
       "            background-color:  #b40426;\n",
       "            color:  #f1f1f1;\n",
       "        }    #T_e95fd68a_c715_11ea_999a_d45d648f97bcrow6_col7 {\n",
       "            background-color:  #c43032;\n",
       "            color:  #f1f1f1;\n",
       "        }    #T_e95fd68a_c715_11ea_999a_d45d648f97bcrow6_col8 {\n",
       "            background-color:  #8badfd;\n",
       "            color:  #000000;\n",
       "        }    #T_e95fd68a_c715_11ea_999a_d45d648f97bcrow6_col9 {\n",
       "            background-color:  #7699f6;\n",
       "            color:  #000000;\n",
       "        }    #T_e95fd68a_c715_11ea_999a_d45d648f97bcrow6_col10 {\n",
       "            background-color:  #779af7;\n",
       "            color:  #000000;\n",
       "        }    #T_e95fd68a_c715_11ea_999a_d45d648f97bcrow6_col11 {\n",
       "            background-color:  #90b2fe;\n",
       "            color:  #000000;\n",
       "        }    #T_e95fd68a_c715_11ea_999a_d45d648f97bcrow6_col12 {\n",
       "            background-color:  #5470de;\n",
       "            color:  #000000;\n",
       "        }    #T_e95fd68a_c715_11ea_999a_d45d648f97bcrow7_col0 {\n",
       "            background-color:  #5572df;\n",
       "            color:  #000000;\n",
       "        }    #T_e95fd68a_c715_11ea_999a_d45d648f97bcrow7_col1 {\n",
       "            background-color:  #4055c8;\n",
       "            color:  #f1f1f1;\n",
       "        }    #T_e95fd68a_c715_11ea_999a_d45d648f97bcrow7_col2 {\n",
       "            background-color:  #4055c8;\n",
       "            color:  #f1f1f1;\n",
       "        }    #T_e95fd68a_c715_11ea_999a_d45d648f97bcrow7_col3 {\n",
       "            background-color:  #445acc;\n",
       "            color:  #f1f1f1;\n",
       "        }    #T_e95fd68a_c715_11ea_999a_d45d648f97bcrow7_col4 {\n",
       "            background-color:  #c12b30;\n",
       "            color:  #f1f1f1;\n",
       "        }    #T_e95fd68a_c715_11ea_999a_d45d648f97bcrow7_col5 {\n",
       "            background-color:  #ba162b;\n",
       "            color:  #f1f1f1;\n",
       "        }    #T_e95fd68a_c715_11ea_999a_d45d648f97bcrow7_col6 {\n",
       "            background-color:  #c43032;\n",
       "            color:  #f1f1f1;\n",
       "        }    #T_e95fd68a_c715_11ea_999a_d45d648f97bcrow7_col7 {\n",
       "            background-color:  #b40426;\n",
       "            color:  #f1f1f1;\n",
       "        }    #T_e95fd68a_c715_11ea_999a_d45d648f97bcrow7_col8 {\n",
       "            background-color:  #7ea1fa;\n",
       "            color:  #000000;\n",
       "        }    #T_e95fd68a_c715_11ea_999a_d45d648f97bcrow7_col9 {\n",
       "            background-color:  #6c8ff1;\n",
       "            color:  #000000;\n",
       "        }    #T_e95fd68a_c715_11ea_999a_d45d648f97bcrow7_col10 {\n",
       "            background-color:  #6c8ff1;\n",
       "            color:  #000000;\n",
       "        }    #T_e95fd68a_c715_11ea_999a_d45d648f97bcrow7_col11 {\n",
       "            background-color:  #81a4fb;\n",
       "            color:  #000000;\n",
       "        }    #T_e95fd68a_c715_11ea_999a_d45d648f97bcrow7_col12 {\n",
       "            background-color:  #506bda;\n",
       "            color:  #000000;\n",
       "        }    #T_e95fd68a_c715_11ea_999a_d45d648f97bcrow8_col0 {\n",
       "            background-color:  #6384eb;\n",
       "            color:  #000000;\n",
       "        }    #T_e95fd68a_c715_11ea_999a_d45d648f97bcrow8_col1 {\n",
       "            background-color:  #3b4cc0;\n",
       "            color:  #f1f1f1;\n",
       "        }    #T_e95fd68a_c715_11ea_999a_d45d648f97bcrow8_col2 {\n",
       "            background-color:  #4b64d5;\n",
       "            color:  #f1f1f1;\n",
       "        }    #T_e95fd68a_c715_11ea_999a_d45d648f97bcrow8_col3 {\n",
       "            background-color:  #5977e3;\n",
       "            color:  #000000;\n",
       "        }    #T_e95fd68a_c715_11ea_999a_d45d648f97bcrow8_col4 {\n",
       "            background-color:  #7ea1fa;\n",
       "            color:  #000000;\n",
       "        }    #T_e95fd68a_c715_11ea_999a_d45d648f97bcrow8_col5 {\n",
       "            background-color:  #7396f5;\n",
       "            color:  #000000;\n",
       "        }    #T_e95fd68a_c715_11ea_999a_d45d648f97bcrow8_col6 {\n",
       "            background-color:  #8badfd;\n",
       "            color:  #000000;\n",
       "        }    #T_e95fd68a_c715_11ea_999a_d45d648f97bcrow8_col7 {\n",
       "            background-color:  #7ea1fa;\n",
       "            color:  #000000;\n",
       "        }    #T_e95fd68a_c715_11ea_999a_d45d648f97bcrow8_col8 {\n",
       "            background-color:  #b40426;\n",
       "            color:  #f1f1f1;\n",
       "        }    #T_e95fd68a_c715_11ea_999a_d45d648f97bcrow8_col9 {\n",
       "            background-color:  #c9d7f0;\n",
       "            color:  #000000;\n",
       "        }    #T_e95fd68a_c715_11ea_999a_d45d648f97bcrow8_col10 {\n",
       "            background-color:  #f7ac8e;\n",
       "            color:  #000000;\n",
       "        }    #T_e95fd68a_c715_11ea_999a_d45d648f97bcrow8_col11 {\n",
       "            background-color:  #f08b6e;\n",
       "            color:  #000000;\n",
       "        }    #T_e95fd68a_c715_11ea_999a_d45d648f97bcrow8_col12 {\n",
       "            background-color:  #7a9df8;\n",
       "            color:  #000000;\n",
       "        }    #T_e95fd68a_c715_11ea_999a_d45d648f97bcrow9_col0 {\n",
       "            background-color:  #5d7ce6;\n",
       "            color:  #000000;\n",
       "        }    #T_e95fd68a_c715_11ea_999a_d45d648f97bcrow9_col1 {\n",
       "            background-color:  #6a8bef;\n",
       "            color:  #000000;\n",
       "        }    #T_e95fd68a_c715_11ea_999a_d45d648f97bcrow9_col2 {\n",
       "            background-color:  #4a63d3;\n",
       "            color:  #f1f1f1;\n",
       "        }    #T_e95fd68a_c715_11ea_999a_d45d648f97bcrow9_col3 {\n",
       "            background-color:  #5572df;\n",
       "            color:  #000000;\n",
       "        }    #T_e95fd68a_c715_11ea_999a_d45d648f97bcrow9_col4 {\n",
       "            background-color:  #6485ec;\n",
       "            color:  #000000;\n",
       "        }    #T_e95fd68a_c715_11ea_999a_d45d648f97bcrow9_col5 {\n",
       "            background-color:  #6b8df0;\n",
       "            color:  #000000;\n",
       "        }    #T_e95fd68a_c715_11ea_999a_d45d648f97bcrow9_col6 {\n",
       "            background-color:  #7699f6;\n",
       "            color:  #000000;\n",
       "        }    #T_e95fd68a_c715_11ea_999a_d45d648f97bcrow9_col7 {\n",
       "            background-color:  #6c8ff1;\n",
       "            color:  #000000;\n",
       "        }    #T_e95fd68a_c715_11ea_999a_d45d648f97bcrow9_col8 {\n",
       "            background-color:  #c9d7f0;\n",
       "            color:  #000000;\n",
       "        }    #T_e95fd68a_c715_11ea_999a_d45d648f97bcrow9_col9 {\n",
       "            background-color:  #b40426;\n",
       "            color:  #f1f1f1;\n",
       "        }    #T_e95fd68a_c715_11ea_999a_d45d648f97bcrow9_col10 {\n",
       "            background-color:  #f18d6f;\n",
       "            color:  #000000;\n",
       "        }    #T_e95fd68a_c715_11ea_999a_d45d648f97bcrow9_col11 {\n",
       "            background-color:  #f08b6e;\n",
       "            color:  #000000;\n",
       "        }    #T_e95fd68a_c715_11ea_999a_d45d648f97bcrow9_col12 {\n",
       "            background-color:  #92b4fe;\n",
       "            color:  #000000;\n",
       "        }    #T_e95fd68a_c715_11ea_999a_d45d648f97bcrow10_col0 {\n",
       "            background-color:  #5572df;\n",
       "            color:  #000000;\n",
       "        }    #T_e95fd68a_c715_11ea_999a_d45d648f97bcrow10_col1 {\n",
       "            background-color:  #6a8bef;\n",
       "            color:  #000000;\n",
       "        }    #T_e95fd68a_c715_11ea_999a_d45d648f97bcrow10_col2 {\n",
       "            background-color:  #485fd1;\n",
       "            color:  #f1f1f1;\n",
       "        }    #T_e95fd68a_c715_11ea_999a_d45d648f97bcrow10_col3 {\n",
       "            background-color:  #4961d2;\n",
       "            color:  #f1f1f1;\n",
       "        }    #T_e95fd68a_c715_11ea_999a_d45d648f97bcrow10_col4 {\n",
       "            background-color:  #6687ed;\n",
       "            color:  #000000;\n",
       "        }    #T_e95fd68a_c715_11ea_999a_d45d648f97bcrow10_col5 {\n",
       "            background-color:  #688aef;\n",
       "            color:  #000000;\n",
       "        }    #T_e95fd68a_c715_11ea_999a_d45d648f97bcrow10_col6 {\n",
       "            background-color:  #779af7;\n",
       "            color:  #000000;\n",
       "        }    #T_e95fd68a_c715_11ea_999a_d45d648f97bcrow10_col7 {\n",
       "            background-color:  #6c8ff1;\n",
       "            color:  #000000;\n",
       "        }    #T_e95fd68a_c715_11ea_999a_d45d648f97bcrow10_col8 {\n",
       "            background-color:  #f7ac8e;\n",
       "            color:  #000000;\n",
       "        }    #T_e95fd68a_c715_11ea_999a_d45d648f97bcrow10_col9 {\n",
       "            background-color:  #f18d6f;\n",
       "            color:  #000000;\n",
       "        }    #T_e95fd68a_c715_11ea_999a_d45d648f97bcrow10_col10 {\n",
       "            background-color:  #b40426;\n",
       "            color:  #f1f1f1;\n",
       "        }    #T_e95fd68a_c715_11ea_999a_d45d648f97bcrow10_col11 {\n",
       "            background-color:  #d55042;\n",
       "            color:  #000000;\n",
       "        }    #T_e95fd68a_c715_11ea_999a_d45d648f97bcrow10_col12 {\n",
       "            background-color:  #7396f5;\n",
       "            color:  #000000;\n",
       "        }    #T_e95fd68a_c715_11ea_999a_d45d648f97bcrow11_col0 {\n",
       "            background-color:  #6384eb;\n",
       "            color:  #000000;\n",
       "        }    #T_e95fd68a_c715_11ea_999a_d45d648f97bcrow11_col1 {\n",
       "            background-color:  #536edd;\n",
       "            color:  #000000;\n",
       "        }    #T_e95fd68a_c715_11ea_999a_d45d648f97bcrow11_col2 {\n",
       "            background-color:  #4a63d3;\n",
       "            color:  #f1f1f1;\n",
       "        }    #T_e95fd68a_c715_11ea_999a_d45d648f97bcrow11_col3 {\n",
       "            background-color:  #5572df;\n",
       "            color:  #000000;\n",
       "        }    #T_e95fd68a_c715_11ea_999a_d45d648f97bcrow11_col4 {\n",
       "            background-color:  #779af7;\n",
       "            color:  #000000;\n",
       "        }    #T_e95fd68a_c715_11ea_999a_d45d648f97bcrow11_col5 {\n",
       "            background-color:  #7b9ff9;\n",
       "            color:  #000000;\n",
       "        }    #T_e95fd68a_c715_11ea_999a_d45d648f97bcrow11_col6 {\n",
       "            background-color:  #90b2fe;\n",
       "            color:  #000000;\n",
       "        }    #T_e95fd68a_c715_11ea_999a_d45d648f97bcrow11_col7 {\n",
       "            background-color:  #81a4fb;\n",
       "            color:  #000000;\n",
       "        }    #T_e95fd68a_c715_11ea_999a_d45d648f97bcrow11_col8 {\n",
       "            background-color:  #f08b6e;\n",
       "            color:  #000000;\n",
       "        }    #T_e95fd68a_c715_11ea_999a_d45d648f97bcrow11_col9 {\n",
       "            background-color:  #f08b6e;\n",
       "            color:  #000000;\n",
       "        }    #T_e95fd68a_c715_11ea_999a_d45d648f97bcrow11_col10 {\n",
       "            background-color:  #d55042;\n",
       "            color:  #000000;\n",
       "        }    #T_e95fd68a_c715_11ea_999a_d45d648f97bcrow11_col11 {\n",
       "            background-color:  #b40426;\n",
       "            color:  #f1f1f1;\n",
       "        }    #T_e95fd68a_c715_11ea_999a_d45d648f97bcrow11_col12 {\n",
       "            background-color:  #88abfd;\n",
       "            color:  #000000;\n",
       "        }    #T_e95fd68a_c715_11ea_999a_d45d648f97bcrow12_col0 {\n",
       "            background-color:  #e0dbd8;\n",
       "            color:  #000000;\n",
       "        }    #T_e95fd68a_c715_11ea_999a_d45d648f97bcrow12_col1 {\n",
       "            background-color:  #455cce;\n",
       "            color:  #f1f1f1;\n",
       "        }    #T_e95fd68a_c715_11ea_999a_d45d648f97bcrow12_col2 {\n",
       "            background-color:  #5673e0;\n",
       "            color:  #000000;\n",
       "        }    #T_e95fd68a_c715_11ea_999a_d45d648f97bcrow12_col3 {\n",
       "            background-color:  #d2dbe8;\n",
       "            color:  #000000;\n",
       "        }    #T_e95fd68a_c715_11ea_999a_d45d648f97bcrow12_col4 {\n",
       "            background-color:  #506bda;\n",
       "            color:  #000000;\n",
       "        }    #T_e95fd68a_c715_11ea_999a_d45d648f97bcrow12_col5 {\n",
       "            background-color:  #4f69d9;\n",
       "            color:  #000000;\n",
       "        }    #T_e95fd68a_c715_11ea_999a_d45d648f97bcrow12_col6 {\n",
       "            background-color:  #5470de;\n",
       "            color:  #000000;\n",
       "        }    #T_e95fd68a_c715_11ea_999a_d45d648f97bcrow12_col7 {\n",
       "            background-color:  #506bda;\n",
       "            color:  #000000;\n",
       "        }    #T_e95fd68a_c715_11ea_999a_d45d648f97bcrow12_col8 {\n",
       "            background-color:  #7a9df8;\n",
       "            color:  #000000;\n",
       "        }    #T_e95fd68a_c715_11ea_999a_d45d648f97bcrow12_col9 {\n",
       "            background-color:  #92b4fe;\n",
       "            color:  #000000;\n",
       "        }    #T_e95fd68a_c715_11ea_999a_d45d648f97bcrow12_col10 {\n",
       "            background-color:  #7396f5;\n",
       "            color:  #000000;\n",
       "        }    #T_e95fd68a_c715_11ea_999a_d45d648f97bcrow12_col11 {\n",
       "            background-color:  #88abfd;\n",
       "            color:  #000000;\n",
       "        }    #T_e95fd68a_c715_11ea_999a_d45d648f97bcrow12_col12 {\n",
       "            background-color:  #b40426;\n",
       "            color:  #f1f1f1;\n",
       "        }</style><table id=\"T_e95fd68a_c715_11ea_999a_d45d648f97bc\" ><thead>    <tr>        <th class=\"blank level0\" ></th>        <th class=\"col_heading level0 col0\" >Renda Mensal Informal</th>        <th class=\"col_heading level0 col1\" >Idade</th>        <th class=\"col_heading level0 col2\" >Quant Adiantamento Deposito</th>        <th class=\"col_heading level0 col3\" >Qtd Fonte Renda</th>        <th class=\"col_heading level0 col4\" >Valor Emprestimo</th>        <th class=\"col_heading level0 col5\" >Multa</th>        <th class=\"col_heading level0 col6\" >Juros</th>        <th class=\"col_heading level0 col7\" >Valor Emprestimo Atualizado</th>        <th class=\"col_heading level0 col8\" >log_emprestimo</th>        <th class=\"col_heading level0 col9\" >log_multa</th>        <th class=\"col_heading level0 col10\" >log_juros</th>        <th class=\"col_heading level0 col11\" >log_emprestimo_atualizado</th>        <th class=\"col_heading level0 col12\" >log_renda_informal</th>    </tr></thead><tbody>\n",
       "                <tr>\n",
       "                        <th id=\"T_e95fd68a_c715_11ea_999a_d45d648f97bclevel0_row0\" class=\"row_heading level0 row0\" >Renda Mensal Informal</th>\n",
       "                        <td id=\"T_e95fd68a_c715_11ea_999a_d45d648f97bcrow0_col0\" class=\"data row0 col0\" >1.00</td>\n",
       "                        <td id=\"T_e95fd68a_c715_11ea_999a_d45d648f97bcrow0_col1\" class=\"data row0 col1\" >0.01</td>\n",
       "                        <td id=\"T_e95fd68a_c715_11ea_999a_d45d648f97bcrow0_col2\" class=\"data row0 col2\" >0.04</td>\n",
       "                        <td id=\"T_e95fd68a_c715_11ea_999a_d45d648f97bcrow0_col3\" class=\"data row0 col3\" >0.39</td>\n",
       "                        <td id=\"T_e95fd68a_c715_11ea_999a_d45d648f97bcrow0_col4\" class=\"data row0 col4\" >0.07</td>\n",
       "                        <td id=\"T_e95fd68a_c715_11ea_999a_d45d648f97bcrow0_col5\" class=\"data row0 col5\" >0.06</td>\n",
       "                        <td id=\"T_e95fd68a_c715_11ea_999a_d45d648f97bcrow0_col6\" class=\"data row0 col6\" >0.06</td>\n",
       "                        <td id=\"T_e95fd68a_c715_11ea_999a_d45d648f97bcrow0_col7\" class=\"data row0 col7\" >0.07</td>\n",
       "                        <td id=\"T_e95fd68a_c715_11ea_999a_d45d648f97bcrow0_col8\" class=\"data row0 col8\" >0.11</td>\n",
       "                        <td id=\"T_e95fd68a_c715_11ea_999a_d45d648f97bcrow0_col9\" class=\"data row0 col9\" >0.09</td>\n",
       "                        <td id=\"T_e95fd68a_c715_11ea_999a_d45d648f97bcrow0_col10\" class=\"data row0 col10\" >0.07</td>\n",
       "                        <td id=\"T_e95fd68a_c715_11ea_999a_d45d648f97bcrow0_col11\" class=\"data row0 col11\" >0.11</td>\n",
       "                        <td id=\"T_e95fd68a_c715_11ea_999a_d45d648f97bcrow0_col12\" class=\"data row0 col12\" >0.50</td>\n",
       "            </tr>\n",
       "            <tr>\n",
       "                        <th id=\"T_e95fd68a_c715_11ea_999a_d45d648f97bclevel0_row1\" class=\"row_heading level0 row1\" >Idade</th>\n",
       "                        <td id=\"T_e95fd68a_c715_11ea_999a_d45d648f97bcrow1_col0\" class=\"data row1 col0\" >0.01</td>\n",
       "                        <td id=\"T_e95fd68a_c715_11ea_999a_d45d648f97bcrow1_col1\" class=\"data row1 col1\" >1.00</td>\n",
       "                        <td id=\"T_e95fd68a_c715_11ea_999a_d45d648f97bcrow1_col2\" class=\"data row1 col2\" >0.07</td>\n",
       "                        <td id=\"T_e95fd68a_c715_11ea_999a_d45d648f97bcrow1_col3\" class=\"data row1 col3\" >0.04</td>\n",
       "                        <td id=\"T_e95fd68a_c715_11ea_999a_d45d648f97bcrow1_col4\" class=\"data row1 col4\" >-0.01</td>\n",
       "                        <td id=\"T_e95fd68a_c715_11ea_999a_d45d648f97bcrow1_col5\" class=\"data row1 col5\" >-0.00</td>\n",
       "                        <td id=\"T_e95fd68a_c715_11ea_999a_d45d648f97bcrow1_col6\" class=\"data row1 col6\" >0.01</td>\n",
       "                        <td id=\"T_e95fd68a_c715_11ea_999a_d45d648f97bcrow1_col7\" class=\"data row1 col7\" >-0.00</td>\n",
       "                        <td id=\"T_e95fd68a_c715_11ea_999a_d45d648f97bcrow1_col8\" class=\"data row1 col8\" >-0.02</td>\n",
       "                        <td id=\"T_e95fd68a_c715_11ea_999a_d45d648f97bcrow1_col9\" class=\"data row1 col9\" >0.13</td>\n",
       "                        <td id=\"T_e95fd68a_c715_11ea_999a_d45d648f97bcrow1_col10\" class=\"data row1 col10\" >0.13</td>\n",
       "                        <td id=\"T_e95fd68a_c715_11ea_999a_d45d648f97bcrow1_col11\" class=\"data row1 col11\" >0.06</td>\n",
       "                        <td id=\"T_e95fd68a_c715_11ea_999a_d45d648f97bcrow1_col12\" class=\"data row1 col12\" >0.01</td>\n",
       "            </tr>\n",
       "            <tr>\n",
       "                        <th id=\"T_e95fd68a_c715_11ea_999a_d45d648f97bclevel0_row2\" class=\"row_heading level0 row2\" >Quant Adiantamento Deposito</th>\n",
       "                        <td id=\"T_e95fd68a_c715_11ea_999a_d45d648f97bcrow2_col0\" class=\"data row2 col0\" >0.04</td>\n",
       "                        <td id=\"T_e95fd68a_c715_11ea_999a_d45d648f97bcrow2_col1\" class=\"data row2 col1\" >0.07</td>\n",
       "                        <td id=\"T_e95fd68a_c715_11ea_999a_d45d648f97bcrow2_col2\" class=\"data row2 col2\" >1.00</td>\n",
       "                        <td id=\"T_e95fd68a_c715_11ea_999a_d45d648f97bcrow2_col3\" class=\"data row2 col3\" >0.09</td>\n",
       "                        <td id=\"T_e95fd68a_c715_11ea_999a_d45d648f97bcrow2_col4\" class=\"data row2 col4\" >0.00</td>\n",
       "                        <td id=\"T_e95fd68a_c715_11ea_999a_d45d648f97bcrow2_col5\" class=\"data row2 col5\" >-0.00</td>\n",
       "                        <td id=\"T_e95fd68a_c715_11ea_999a_d45d648f97bcrow2_col6\" class=\"data row2 col6\" >-0.00</td>\n",
       "                        <td id=\"T_e95fd68a_c715_11ea_999a_d45d648f97bcrow2_col7\" class=\"data row2 col7\" >-0.00</td>\n",
       "                        <td id=\"T_e95fd68a_c715_11ea_999a_d45d648f97bcrow2_col8\" class=\"data row2 col8\" >0.03</td>\n",
       "                        <td id=\"T_e95fd68a_c715_11ea_999a_d45d648f97bcrow2_col9\" class=\"data row2 col9\" >0.03</td>\n",
       "                        <td id=\"T_e95fd68a_c715_11ea_999a_d45d648f97bcrow2_col10\" class=\"data row2 col10\" >0.02</td>\n",
       "                        <td id=\"T_e95fd68a_c715_11ea_999a_d45d648f97bcrow2_col11\" class=\"data row2 col11\" >0.03</td>\n",
       "                        <td id=\"T_e95fd68a_c715_11ea_999a_d45d648f97bcrow2_col12\" class=\"data row2 col12\" >0.07</td>\n",
       "            </tr>\n",
       "            <tr>\n",
       "                        <th id=\"T_e95fd68a_c715_11ea_999a_d45d648f97bclevel0_row3\" class=\"row_heading level0 row3\" >Qtd Fonte Renda</th>\n",
       "                        <td id=\"T_e95fd68a_c715_11ea_999a_d45d648f97bcrow3_col0\" class=\"data row3 col0\" >0.39</td>\n",
       "                        <td id=\"T_e95fd68a_c715_11ea_999a_d45d648f97bcrow3_col1\" class=\"data row3 col1\" >0.04</td>\n",
       "                        <td id=\"T_e95fd68a_c715_11ea_999a_d45d648f97bcrow3_col2\" class=\"data row3 col2\" >0.09</td>\n",
       "                        <td id=\"T_e95fd68a_c715_11ea_999a_d45d648f97bcrow3_col3\" class=\"data row3 col3\" >1.00</td>\n",
       "                        <td id=\"T_e95fd68a_c715_11ea_999a_d45d648f97bcrow3_col4\" class=\"data row3 col4\" >0.01</td>\n",
       "                        <td id=\"T_e95fd68a_c715_11ea_999a_d45d648f97bcrow3_col5\" class=\"data row3 col5\" >0.01</td>\n",
       "                        <td id=\"T_e95fd68a_c715_11ea_999a_d45d648f97bcrow3_col6\" class=\"data row3 col6\" >0.02</td>\n",
       "                        <td id=\"T_e95fd68a_c715_11ea_999a_d45d648f97bcrow3_col7\" class=\"data row3 col7\" >0.01</td>\n",
       "                        <td id=\"T_e95fd68a_c715_11ea_999a_d45d648f97bcrow3_col8\" class=\"data row3 col8\" >0.08</td>\n",
       "                        <td id=\"T_e95fd68a_c715_11ea_999a_d45d648f97bcrow3_col9\" class=\"data row3 col9\" >0.07</td>\n",
       "                        <td id=\"T_e95fd68a_c715_11ea_999a_d45d648f97bcrow3_col10\" class=\"data row3 col10\" >0.03</td>\n",
       "                        <td id=\"T_e95fd68a_c715_11ea_999a_d45d648f97bcrow3_col11\" class=\"data row3 col11\" >0.07</td>\n",
       "                        <td id=\"T_e95fd68a_c715_11ea_999a_d45d648f97bcrow3_col12\" class=\"data row3 col12\" >0.45</td>\n",
       "            </tr>\n",
       "            <tr>\n",
       "                        <th id=\"T_e95fd68a_c715_11ea_999a_d45d648f97bclevel0_row4\" class=\"row_heading level0 row4\" >Valor Emprestimo</th>\n",
       "                        <td id=\"T_e95fd68a_c715_11ea_999a_d45d648f97bcrow4_col0\" class=\"data row4 col0\" >0.07</td>\n",
       "                        <td id=\"T_e95fd68a_c715_11ea_999a_d45d648f97bcrow4_col1\" class=\"data row4 col1\" >-0.01</td>\n",
       "                        <td id=\"T_e95fd68a_c715_11ea_999a_d45d648f97bcrow4_col2\" class=\"data row4 col2\" >0.00</td>\n",
       "                        <td id=\"T_e95fd68a_c715_11ea_999a_d45d648f97bcrow4_col3\" class=\"data row4 col3\" >0.01</td>\n",
       "                        <td id=\"T_e95fd68a_c715_11ea_999a_d45d648f97bcrow4_col4\" class=\"data row4 col4\" >1.00</td>\n",
       "                        <td id=\"T_e95fd68a_c715_11ea_999a_d45d648f97bcrow4_col5\" class=\"data row4 col5\" >0.91</td>\n",
       "                        <td id=\"T_e95fd68a_c715_11ea_999a_d45d648f97bcrow4_col6\" class=\"data row4 col6\" >0.86</td>\n",
       "                        <td id=\"T_e95fd68a_c715_11ea_999a_d45d648f97bcrow4_col7\" class=\"data row4 col7\" >0.96</td>\n",
       "                        <td id=\"T_e95fd68a_c715_11ea_999a_d45d648f97bcrow4_col8\" class=\"data row4 col8\" >0.19</td>\n",
       "                        <td id=\"T_e95fd68a_c715_11ea_999a_d45d648f97bcrow4_col9\" class=\"data row4 col9\" >0.11</td>\n",
       "                        <td id=\"T_e95fd68a_c715_11ea_999a_d45d648f97bcrow4_col10\" class=\"data row4 col10\" >0.12</td>\n",
       "                        <td id=\"T_e95fd68a_c715_11ea_999a_d45d648f97bcrow4_col11\" class=\"data row4 col11\" >0.17</td>\n",
       "                        <td id=\"T_e95fd68a_c715_11ea_999a_d45d648f97bcrow4_col12\" class=\"data row4 col12\" >0.05</td>\n",
       "            </tr>\n",
       "            <tr>\n",
       "                        <th id=\"T_e95fd68a_c715_11ea_999a_d45d648f97bclevel0_row5\" class=\"row_heading level0 row5\" >Multa</th>\n",
       "                        <td id=\"T_e95fd68a_c715_11ea_999a_d45d648f97bcrow5_col0\" class=\"data row5 col0\" >0.06</td>\n",
       "                        <td id=\"T_e95fd68a_c715_11ea_999a_d45d648f97bcrow5_col1\" class=\"data row5 col1\" >-0.00</td>\n",
       "                        <td id=\"T_e95fd68a_c715_11ea_999a_d45d648f97bcrow5_col2\" class=\"data row5 col2\" >-0.00</td>\n",
       "                        <td id=\"T_e95fd68a_c715_11ea_999a_d45d648f97bcrow5_col3\" class=\"data row5 col3\" >0.01</td>\n",
       "                        <td id=\"T_e95fd68a_c715_11ea_999a_d45d648f97bcrow5_col4\" class=\"data row5 col4\" >0.91</td>\n",
       "                        <td id=\"T_e95fd68a_c715_11ea_999a_d45d648f97bcrow5_col5\" class=\"data row5 col5\" >1.00</td>\n",
       "                        <td id=\"T_e95fd68a_c715_11ea_999a_d45d648f97bcrow5_col6\" class=\"data row5 col6\" >0.92</td>\n",
       "                        <td id=\"T_e95fd68a_c715_11ea_999a_d45d648f97bcrow5_col7\" class=\"data row5 col7\" >0.98</td>\n",
       "                        <td id=\"T_e95fd68a_c715_11ea_999a_d45d648f97bcrow5_col8\" class=\"data row5 col8\" >0.16</td>\n",
       "                        <td id=\"T_e95fd68a_c715_11ea_999a_d45d648f97bcrow5_col9\" class=\"data row5 col9\" >0.13</td>\n",
       "                        <td id=\"T_e95fd68a_c715_11ea_999a_d45d648f97bcrow5_col10\" class=\"data row5 col10\" >0.13</td>\n",
       "                        <td id=\"T_e95fd68a_c715_11ea_999a_d45d648f97bcrow5_col11\" class=\"data row5 col11\" >0.18</td>\n",
       "                        <td id=\"T_e95fd68a_c715_11ea_999a_d45d648f97bcrow5_col12\" class=\"data row5 col12\" >0.05</td>\n",
       "            </tr>\n",
       "            <tr>\n",
       "                        <th id=\"T_e95fd68a_c715_11ea_999a_d45d648f97bclevel0_row6\" class=\"row_heading level0 row6\" >Juros</th>\n",
       "                        <td id=\"T_e95fd68a_c715_11ea_999a_d45d648f97bcrow6_col0\" class=\"data row6 col0\" >0.06</td>\n",
       "                        <td id=\"T_e95fd68a_c715_11ea_999a_d45d648f97bcrow6_col1\" class=\"data row6 col1\" >0.01</td>\n",
       "                        <td id=\"T_e95fd68a_c715_11ea_999a_d45d648f97bcrow6_col2\" class=\"data row6 col2\" >-0.00</td>\n",
       "                        <td id=\"T_e95fd68a_c715_11ea_999a_d45d648f97bcrow6_col3\" class=\"data row6 col3\" >0.02</td>\n",
       "                        <td id=\"T_e95fd68a_c715_11ea_999a_d45d648f97bcrow6_col4\" class=\"data row6 col4\" >0.86</td>\n",
       "                        <td id=\"T_e95fd68a_c715_11ea_999a_d45d648f97bcrow6_col5\" class=\"data row6 col5\" >0.92</td>\n",
       "                        <td id=\"T_e95fd68a_c715_11ea_999a_d45d648f97bcrow6_col6\" class=\"data row6 col6\" >1.00</td>\n",
       "                        <td id=\"T_e95fd68a_c715_11ea_999a_d45d648f97bcrow6_col7\" class=\"data row6 col7\" >0.96</td>\n",
       "                        <td id=\"T_e95fd68a_c715_11ea_999a_d45d648f97bcrow6_col8\" class=\"data row6 col8\" >0.23</td>\n",
       "                        <td id=\"T_e95fd68a_c715_11ea_999a_d45d648f97bcrow6_col9\" class=\"data row6 col9\" >0.17</td>\n",
       "                        <td id=\"T_e95fd68a_c715_11ea_999a_d45d648f97bcrow6_col10\" class=\"data row6 col10\" >0.17</td>\n",
       "                        <td id=\"T_e95fd68a_c715_11ea_999a_d45d648f97bcrow6_col11\" class=\"data row6 col11\" >0.24</td>\n",
       "                        <td id=\"T_e95fd68a_c715_11ea_999a_d45d648f97bcrow6_col12\" class=\"data row6 col12\" >0.06</td>\n",
       "            </tr>\n",
       "            <tr>\n",
       "                        <th id=\"T_e95fd68a_c715_11ea_999a_d45d648f97bclevel0_row7\" class=\"row_heading level0 row7\" >Valor Emprestimo Atualizado</th>\n",
       "                        <td id=\"T_e95fd68a_c715_11ea_999a_d45d648f97bcrow7_col0\" class=\"data row7 col0\" >0.07</td>\n",
       "                        <td id=\"T_e95fd68a_c715_11ea_999a_d45d648f97bcrow7_col1\" class=\"data row7 col1\" >-0.00</td>\n",
       "                        <td id=\"T_e95fd68a_c715_11ea_999a_d45d648f97bcrow7_col2\" class=\"data row7 col2\" >-0.00</td>\n",
       "                        <td id=\"T_e95fd68a_c715_11ea_999a_d45d648f97bcrow7_col3\" class=\"data row7 col3\" >0.01</td>\n",
       "                        <td id=\"T_e95fd68a_c715_11ea_999a_d45d648f97bcrow7_col4\" class=\"data row7 col4\" >0.96</td>\n",
       "                        <td id=\"T_e95fd68a_c715_11ea_999a_d45d648f97bcrow7_col5\" class=\"data row7 col5\" >0.98</td>\n",
       "                        <td id=\"T_e95fd68a_c715_11ea_999a_d45d648f97bcrow7_col6\" class=\"data row7 col6\" >0.96</td>\n",
       "                        <td id=\"T_e95fd68a_c715_11ea_999a_d45d648f97bcrow7_col7\" class=\"data row7 col7\" >1.00</td>\n",
       "                        <td id=\"T_e95fd68a_c715_11ea_999a_d45d648f97bcrow7_col8\" class=\"data row7 col8\" >0.19</td>\n",
       "                        <td id=\"T_e95fd68a_c715_11ea_999a_d45d648f97bcrow7_col9\" class=\"data row7 col9\" >0.14</td>\n",
       "                        <td id=\"T_e95fd68a_c715_11ea_999a_d45d648f97bcrow7_col10\" class=\"data row7 col10\" >0.14</td>\n",
       "                        <td id=\"T_e95fd68a_c715_11ea_999a_d45d648f97bcrow7_col11\" class=\"data row7 col11\" >0.20</td>\n",
       "                        <td id=\"T_e95fd68a_c715_11ea_999a_d45d648f97bcrow7_col12\" class=\"data row7 col12\" >0.05</td>\n",
       "            </tr>\n",
       "            <tr>\n",
       "                        <th id=\"T_e95fd68a_c715_11ea_999a_d45d648f97bclevel0_row8\" class=\"row_heading level0 row8\" >log_emprestimo</th>\n",
       "                        <td id=\"T_e95fd68a_c715_11ea_999a_d45d648f97bcrow8_col0\" class=\"data row8 col0\" >0.11</td>\n",
       "                        <td id=\"T_e95fd68a_c715_11ea_999a_d45d648f97bcrow8_col1\" class=\"data row8 col1\" >-0.02</td>\n",
       "                        <td id=\"T_e95fd68a_c715_11ea_999a_d45d648f97bcrow8_col2\" class=\"data row8 col2\" >0.03</td>\n",
       "                        <td id=\"T_e95fd68a_c715_11ea_999a_d45d648f97bcrow8_col3\" class=\"data row8 col3\" >0.08</td>\n",
       "                        <td id=\"T_e95fd68a_c715_11ea_999a_d45d648f97bcrow8_col4\" class=\"data row8 col4\" >0.19</td>\n",
       "                        <td id=\"T_e95fd68a_c715_11ea_999a_d45d648f97bcrow8_col5\" class=\"data row8 col5\" >0.16</td>\n",
       "                        <td id=\"T_e95fd68a_c715_11ea_999a_d45d648f97bcrow8_col6\" class=\"data row8 col6\" >0.23</td>\n",
       "                        <td id=\"T_e95fd68a_c715_11ea_999a_d45d648f97bcrow8_col7\" class=\"data row8 col7\" >0.19</td>\n",
       "                        <td id=\"T_e95fd68a_c715_11ea_999a_d45d648f97bcrow8_col8\" class=\"data row8 col8\" >1.00</td>\n",
       "                        <td id=\"T_e95fd68a_c715_11ea_999a_d45d648f97bcrow8_col9\" class=\"data row8 col9\" >0.41</td>\n",
       "                        <td id=\"T_e95fd68a_c715_11ea_999a_d45d648f97bcrow8_col10\" class=\"data row8 col10\" >0.69</td>\n",
       "                        <td id=\"T_e95fd68a_c715_11ea_999a_d45d648f97bcrow8_col11\" class=\"data row8 col11\" >0.78</td>\n",
       "                        <td id=\"T_e95fd68a_c715_11ea_999a_d45d648f97bcrow8_col12\" class=\"data row8 col12\" >0.18</td>\n",
       "            </tr>\n",
       "            <tr>\n",
       "                        <th id=\"T_e95fd68a_c715_11ea_999a_d45d648f97bclevel0_row9\" class=\"row_heading level0 row9\" >log_multa</th>\n",
       "                        <td id=\"T_e95fd68a_c715_11ea_999a_d45d648f97bcrow9_col0\" class=\"data row9 col0\" >0.09</td>\n",
       "                        <td id=\"T_e95fd68a_c715_11ea_999a_d45d648f97bcrow9_col1\" class=\"data row9 col1\" >0.13</td>\n",
       "                        <td id=\"T_e95fd68a_c715_11ea_999a_d45d648f97bcrow9_col2\" class=\"data row9 col2\" >0.03</td>\n",
       "                        <td id=\"T_e95fd68a_c715_11ea_999a_d45d648f97bcrow9_col3\" class=\"data row9 col3\" >0.07</td>\n",
       "                        <td id=\"T_e95fd68a_c715_11ea_999a_d45d648f97bcrow9_col4\" class=\"data row9 col4\" >0.11</td>\n",
       "                        <td id=\"T_e95fd68a_c715_11ea_999a_d45d648f97bcrow9_col5\" class=\"data row9 col5\" >0.13</td>\n",
       "                        <td id=\"T_e95fd68a_c715_11ea_999a_d45d648f97bcrow9_col6\" class=\"data row9 col6\" >0.17</td>\n",
       "                        <td id=\"T_e95fd68a_c715_11ea_999a_d45d648f97bcrow9_col7\" class=\"data row9 col7\" >0.14</td>\n",
       "                        <td id=\"T_e95fd68a_c715_11ea_999a_d45d648f97bcrow9_col8\" class=\"data row9 col8\" >0.41</td>\n",
       "                        <td id=\"T_e95fd68a_c715_11ea_999a_d45d648f97bcrow9_col9\" class=\"data row9 col9\" >1.00</td>\n",
       "                        <td id=\"T_e95fd68a_c715_11ea_999a_d45d648f97bcrow9_col10\" class=\"data row9 col10\" >0.78</td>\n",
       "                        <td id=\"T_e95fd68a_c715_11ea_999a_d45d648f97bcrow9_col11\" class=\"data row9 col11\" >0.78</td>\n",
       "                        <td id=\"T_e95fd68a_c715_11ea_999a_d45d648f97bcrow9_col12\" class=\"data row9 col12\" >0.25</td>\n",
       "            </tr>\n",
       "            <tr>\n",
       "                        <th id=\"T_e95fd68a_c715_11ea_999a_d45d648f97bclevel0_row10\" class=\"row_heading level0 row10\" >log_juros</th>\n",
       "                        <td id=\"T_e95fd68a_c715_11ea_999a_d45d648f97bcrow10_col0\" class=\"data row10 col0\" >0.07</td>\n",
       "                        <td id=\"T_e95fd68a_c715_11ea_999a_d45d648f97bcrow10_col1\" class=\"data row10 col1\" >0.13</td>\n",
       "                        <td id=\"T_e95fd68a_c715_11ea_999a_d45d648f97bcrow10_col2\" class=\"data row10 col2\" >0.02</td>\n",
       "                        <td id=\"T_e95fd68a_c715_11ea_999a_d45d648f97bcrow10_col3\" class=\"data row10 col3\" >0.03</td>\n",
       "                        <td id=\"T_e95fd68a_c715_11ea_999a_d45d648f97bcrow10_col4\" class=\"data row10 col4\" >0.12</td>\n",
       "                        <td id=\"T_e95fd68a_c715_11ea_999a_d45d648f97bcrow10_col5\" class=\"data row10 col5\" >0.13</td>\n",
       "                        <td id=\"T_e95fd68a_c715_11ea_999a_d45d648f97bcrow10_col6\" class=\"data row10 col6\" >0.17</td>\n",
       "                        <td id=\"T_e95fd68a_c715_11ea_999a_d45d648f97bcrow10_col7\" class=\"data row10 col7\" >0.14</td>\n",
       "                        <td id=\"T_e95fd68a_c715_11ea_999a_d45d648f97bcrow10_col8\" class=\"data row10 col8\" >0.69</td>\n",
       "                        <td id=\"T_e95fd68a_c715_11ea_999a_d45d648f97bcrow10_col9\" class=\"data row10 col9\" >0.78</td>\n",
       "                        <td id=\"T_e95fd68a_c715_11ea_999a_d45d648f97bcrow10_col10\" class=\"data row10 col10\" >1.00</td>\n",
       "                        <td id=\"T_e95fd68a_c715_11ea_999a_d45d648f97bcrow10_col11\" class=\"data row10 col11\" >0.90</td>\n",
       "                        <td id=\"T_e95fd68a_c715_11ea_999a_d45d648f97bcrow10_col12\" class=\"data row10 col12\" >0.16</td>\n",
       "            </tr>\n",
       "            <tr>\n",
       "                        <th id=\"T_e95fd68a_c715_11ea_999a_d45d648f97bclevel0_row11\" class=\"row_heading level0 row11\" >log_emprestimo_atualizado</th>\n",
       "                        <td id=\"T_e95fd68a_c715_11ea_999a_d45d648f97bcrow11_col0\" class=\"data row11 col0\" >0.11</td>\n",
       "                        <td id=\"T_e95fd68a_c715_11ea_999a_d45d648f97bcrow11_col1\" class=\"data row11 col1\" >0.06</td>\n",
       "                        <td id=\"T_e95fd68a_c715_11ea_999a_d45d648f97bcrow11_col2\" class=\"data row11 col2\" >0.03</td>\n",
       "                        <td id=\"T_e95fd68a_c715_11ea_999a_d45d648f97bcrow11_col3\" class=\"data row11 col3\" >0.07</td>\n",
       "                        <td id=\"T_e95fd68a_c715_11ea_999a_d45d648f97bcrow11_col4\" class=\"data row11 col4\" >0.17</td>\n",
       "                        <td id=\"T_e95fd68a_c715_11ea_999a_d45d648f97bcrow11_col5\" class=\"data row11 col5\" >0.18</td>\n",
       "                        <td id=\"T_e95fd68a_c715_11ea_999a_d45d648f97bcrow11_col6\" class=\"data row11 col6\" >0.24</td>\n",
       "                        <td id=\"T_e95fd68a_c715_11ea_999a_d45d648f97bcrow11_col7\" class=\"data row11 col7\" >0.20</td>\n",
       "                        <td id=\"T_e95fd68a_c715_11ea_999a_d45d648f97bcrow11_col8\" class=\"data row11 col8\" >0.78</td>\n",
       "                        <td id=\"T_e95fd68a_c715_11ea_999a_d45d648f97bcrow11_col9\" class=\"data row11 col9\" >0.78</td>\n",
       "                        <td id=\"T_e95fd68a_c715_11ea_999a_d45d648f97bcrow11_col10\" class=\"data row11 col10\" >0.90</td>\n",
       "                        <td id=\"T_e95fd68a_c715_11ea_999a_d45d648f97bcrow11_col11\" class=\"data row11 col11\" >1.00</td>\n",
       "                        <td id=\"T_e95fd68a_c715_11ea_999a_d45d648f97bcrow11_col12\" class=\"data row11 col12\" >0.22</td>\n",
       "            </tr>\n",
       "            <tr>\n",
       "                        <th id=\"T_e95fd68a_c715_11ea_999a_d45d648f97bclevel0_row12\" class=\"row_heading level0 row12\" >log_renda_informal</th>\n",
       "                        <td id=\"T_e95fd68a_c715_11ea_999a_d45d648f97bcrow12_col0\" class=\"data row12 col0\" >0.50</td>\n",
       "                        <td id=\"T_e95fd68a_c715_11ea_999a_d45d648f97bcrow12_col1\" class=\"data row12 col1\" >0.01</td>\n",
       "                        <td id=\"T_e95fd68a_c715_11ea_999a_d45d648f97bcrow12_col2\" class=\"data row12 col2\" >0.07</td>\n",
       "                        <td id=\"T_e95fd68a_c715_11ea_999a_d45d648f97bcrow12_col3\" class=\"data row12 col3\" >0.45</td>\n",
       "                        <td id=\"T_e95fd68a_c715_11ea_999a_d45d648f97bcrow12_col4\" class=\"data row12 col4\" >0.05</td>\n",
       "                        <td id=\"T_e95fd68a_c715_11ea_999a_d45d648f97bcrow12_col5\" class=\"data row12 col5\" >0.05</td>\n",
       "                        <td id=\"T_e95fd68a_c715_11ea_999a_d45d648f97bcrow12_col6\" class=\"data row12 col6\" >0.06</td>\n",
       "                        <td id=\"T_e95fd68a_c715_11ea_999a_d45d648f97bcrow12_col7\" class=\"data row12 col7\" >0.05</td>\n",
       "                        <td id=\"T_e95fd68a_c715_11ea_999a_d45d648f97bcrow12_col8\" class=\"data row12 col8\" >0.18</td>\n",
       "                        <td id=\"T_e95fd68a_c715_11ea_999a_d45d648f97bcrow12_col9\" class=\"data row12 col9\" >0.25</td>\n",
       "                        <td id=\"T_e95fd68a_c715_11ea_999a_d45d648f97bcrow12_col10\" class=\"data row12 col10\" >0.16</td>\n",
       "                        <td id=\"T_e95fd68a_c715_11ea_999a_d45d648f97bcrow12_col11\" class=\"data row12 col11\" >0.22</td>\n",
       "                        <td id=\"T_e95fd68a_c715_11ea_999a_d45d648f97bcrow12_col12\" class=\"data row12 col12\" >1.00</td>\n",
       "            </tr>\n",
       "    </tbody></table>"
      ],
      "text/plain": [
       "<pandas.io.formats.style.Styler at 0x1e805f3d1c8>"
      ]
     },
     "execution_count": 65,
     "metadata": {},
     "output_type": "execute_result"
    }
   ],
   "source": [
    "# calculate correlation matrix\n",
    "correlation_columns = ['Renda Mensal Informal', 'Idade', 'Quant Adiantamento Deposito', 'Qtd Fonte Renda', 'Valor Emprestimo', 'Multa', 'Juros', 'Valor Emprestimo Atualizado',\n",
    "                      'log_emprestimo', 'log_multa', 'log_juros', 'log_emprestimo_atualizado', 'log_renda_informal'] \n",
    "corr = df[correlation_columns].corr()\n",
    "corr.style.background_gradient(cmap='coolwarm', axis=None).set_precision(2) # fonte https://stackoverflow.com/questions/29432629/plot-correlation-matrix-using-pandas/50703596#50703596"
   ]
  },
  {
   "cell_type": "code",
   "execution_count": 66,
   "metadata": {},
   "outputs": [],
   "source": [
    "pair = df[['Valor Emprestimo', 'Multa', 'Juros', 'Valor Emprestimo Atualizado', 'Renda Mensal Informal']]"
   ]
  },
  {
   "cell_type": "code",
   "execution_count": 67,
   "metadata": {},
   "outputs": [
    {
     "data": {
      "text/plain": [
       "<seaborn.axisgrid.PairGrid at 0x1e80de3c088>"
      ]
     },
     "execution_count": 67,
     "metadata": {},
     "output_type": "execute_result"
    },
    {
     "data": {
      "image/png": "[encoded data removed]",
      "text/plain": [
       "<Figure size 900x900 with 30 Axes>"
      ]
     },
     "metadata": {
      "needs_background": "light"
     },
     "output_type": "display_data"
    }
   ],
   "source": [
    "sns.pairplot(pair, kind='scatter')"
   ]
  },
  {
   "cell_type": "markdown",
   "metadata": {},
   "source": [
    "> ##### À primeira vista, vemos que as principais variáveis numéricas compartilham fortes relações entre si.  \n",
    "> ##### Já que as variáveis 'Multa', 'Juros' e 'Valor Emprestimo Atualizado' são \"baseadas\" na variável 'Valor Emprestimo', temos uma forte correlação positiva, *i.e.*, estas variáveis são diretamente proporcionais e de acordo que uma delas cresce, a tendência é que as demais também cresçam em proporção parecida."
   ]
  },
  {
   "cell_type": "code",
   "execution_count": 68,
   "metadata": {},
   "outputs": [],
   "source": [
    "solteiros_pago = df[(df['Estado Civil'] == 2) & (df['PAGO'] == 1)].shape[0]\n",
    "solteiros_n_pago = df[(df['Estado Civil'] == 2) & (df['PAGO'] == 0)].shape[0]"
   ]
  },
  {
   "cell_type": "code",
   "execution_count": 69,
   "metadata": {},
   "outputs": [
    {
     "data": {
      "text/plain": [
       "<matplotlib.legend.Legend at 0x1e8090cbc08>"
      ]
     },
     "execution_count": 69,
     "metadata": {},
     "output_type": "execute_result"
    },
    {
     "data": {
      "image/png": "[encoded data removed]",
      "text/plain": [
       "<Figure size 432x288 with 1 Axes>"
      ]
     },
     "metadata": {
      "needs_background": "light"
     },
     "output_type": "display_data"
    }
   ],
   "source": [
    "g = sns.countplot(x='PAGO', hue='estado_civil_desc', data=df)\n",
    "g.legend(loc='center left', bbox_to_anchor=(1, 0.5), ncol=1)"
   ]
  },
  {
   "cell_type": "code",
   "execution_count": 70,
   "metadata": {},
   "outputs": [
    {
     "data": {
      "text/plain": [
       "0.893639846743295"
      ]
     },
     "execution_count": 70,
     "metadata": {},
     "output_type": "execute_result"
    }
   ],
   "source": [
    "solteiros_pago/(solteiros_n_pago+solteiros_pago)"
   ]
  },
  {
   "cell_type": "markdown",
   "metadata": {},
   "source": [
    "> ##### Comentário 1: Acima, vemos que os(as) clientes que são Solteiros(as), em Azul, possuem, historicamente, mais chances de efetuar o pagamento do Empréstimo (89% dos clientes solteiros ).  \n",
    "> ##### Comentário 2: Assim como para os clientes solteiros, temos uma distribuição interessante para os(as) 'Casados(as) com comunhão parcial de bens', em Verde. Temos quase a mesma quantidade de ocorrências de empréstimos pagos e não-pagos"
   ]
  },
  {
   "cell_type": "code",
   "execution_count": 71,
   "metadata": {},
   "outputs": [
    {
     "data": {
      "text/plain": [
       "<matplotlib.axes._subplots.AxesSubplot at 0x1e81772c0c8>"
      ]
     },
     "execution_count": 71,
     "metadata": {},
     "output_type": "execute_result"
    },
    {
     "data": {
      "image/png": "[encoded data removed]",
      "text/plain": [
       "<Figure size 432x288 with 1 Axes>"
      ]
     },
     "metadata": {
      "needs_background": "light"
     },
     "output_type": "display_data"
    }
   ],
   "source": [
    "sns.countplot(x='PAGO', hue='Genero', data=df)"
   ]
  },
  {
   "cell_type": "markdown",
   "metadata": {},
   "source": [
    "> ##### No gráfico acima, vemos que a distribuição de pagamentos entre homens e mulheres é bem homogênea, não havendo tendência nas chances de pagamento, ou não, através do gênero."
   ]
  },
  {
   "cell_type": "code",
   "execution_count": 72,
   "metadata": {},
   "outputs": [
    {
     "data": {
      "text/plain": [
       "<matplotlib.legend.Legend at 0x1e817afdc48>"
      ]
     },
     "execution_count": 72,
     "metadata": {},
     "output_type": "execute_result"
    },
    {
     "data": {
      "image/png": "[encoded data removed]",
      "text/plain": [
       "<Figure size 432x288 with 1 Axes>"
      ]
     },
     "metadata": {
      "needs_background": "light"
     },
     "output_type": "display_data"
    }
   ],
   "source": [
    "g = sns.countplot(x='Cheque Sem Fundo', hue='estado_civil_desc', data=df_bool)\n",
    "g.legend(loc='center left', bbox_to_anchor=(1, 0.5), ncol=1)"
   ]
  },
  {
   "cell_type": "markdown",
   "metadata": {},
   "source": [
    "## 5. Conclusão\n",
    "Por fim, as variáveis que talvez fossem mais importantes para utilizar no nosso modelo são: 'PAGO', 'Escolaridade', 'Multa', 'Juros', 'Valor Emprestimo', 'Valor Emprestimo Atualizado', 'Idade', 'Renda Mensal Informal', 'Quant Adiantamento Deposito' e 'Cheque Sem Fundo'"
   ]
  }
 ],
 "metadata": {
  "kernelspec": {
   "display_name": "Python 3",
   "language": "python",
   "name": "python3"
  },
  "language_info": {
   "codemirror_mode": {
    "name": "ipython",
    "version": 3
   },
   "file_extension": ".py",
   "mimetype": "text/x-python",
   "name": "python",
   "nbconvert_exporter": "python",
   "pygments_lexer": "ipython3",
   "version": "3.7.6"
  }
 },
 "nbformat": 4,
 "nbformat_minor": 4
}
